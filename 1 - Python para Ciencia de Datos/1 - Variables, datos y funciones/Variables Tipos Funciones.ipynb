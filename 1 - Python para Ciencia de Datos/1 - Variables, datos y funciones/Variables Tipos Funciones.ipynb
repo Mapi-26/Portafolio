{
 "cells": [
  {
   "cell_type": "markdown",
   "id": "8476552a",
   "metadata": {},
   "source": [
    "<center> <h1>Universidad Nacional de San Agustín de Arequipa</h1> </center> \n",
    "<center> <h1>Escuela Profesional de Ingeniería de Telecomunicaciones</h1> </center> \n",
    "\n",
    "<center> <h1> </h1> </center> \n",
    "\n",
    "<center><img src=\"https://user-images.githubusercontent.com/19308295/115939517-f1c6fe80-a463-11eb-989c-812ab4942586.png\" width=\"380\" height=\"4200\"></center>"
   ]
  },
  {
   "cell_type": "markdown",
   "id": "ec9b15c4",
   "metadata": {},
   "source": [
    "#### <center> <h2>Variables Tipos Funciones</h2> </center>"
   ]
  },
  {
   "cell_type": "markdown",
   "id": "c9f6ac5e",
   "metadata": {},
   "source": [
    "#### <center> <h2>Autor: María del Pilar Velasquez Condori</h2> </center>"
   ]
  },
  {
   "cell_type": "markdown",
   "id": "02f037bb",
   "metadata": {},
   "source": [
    "#### <center> <h2>AREQUIPA - PERU</h2> </center>\n",
    "#### <center> <h2>2022</h2> </center>"
   ]
  },
  {
   "cell_type": "markdown",
   "id": "894bbc42",
   "metadata": {},
   "source": [
    "## 1. Variables y Tipos de Datos"
   ]
  },
  {
   "cell_type": "code",
   "execution_count": 5,
   "id": "8eb6fdd1",
   "metadata": {},
   "outputs": [],
   "source": [
    "x = 5               #Número Entero\n",
    "y = 5.5             #Número Flotante\n",
    "j = 'q'             #Caracter string\n",
    "k = \"Buenos Dias\"   #Cadena de Caracteres string\n",
    "m = True            #Lógico"
   ]
  },
  {
   "cell_type": "code",
   "execution_count": 2,
   "id": "ca7df5e5",
   "metadata": {},
   "outputs": [
    {
     "data": {
      "text/plain": [
       "int"
      ]
     },
     "execution_count": 2,
     "metadata": {},
     "output_type": "execute_result"
    }
   ],
   "source": [
    "type(x)             #Número Entero"
   ]
  },
  {
   "cell_type": "code",
   "execution_count": 3,
   "id": "e71bff07",
   "metadata": {},
   "outputs": [
    {
     "data": {
      "text/plain": [
       "float"
      ]
     },
     "execution_count": 3,
     "metadata": {},
     "output_type": "execute_result"
    }
   ],
   "source": [
    "type(y)             #Número Flotante"
   ]
  },
  {
   "cell_type": "code",
   "execution_count": 4,
   "id": "1193a112",
   "metadata": {},
   "outputs": [
    {
     "data": {
      "text/plain": [
       "str"
      ]
     },
     "execution_count": 4,
     "metadata": {},
     "output_type": "execute_result"
    }
   ],
   "source": [
    "type(j)             #Caracter string"
   ]
  },
  {
   "cell_type": "code",
   "execution_count": 6,
   "id": "4e1e206a",
   "metadata": {},
   "outputs": [
    {
     "data": {
      "text/plain": [
       "str"
      ]
     },
     "execution_count": 6,
     "metadata": {},
     "output_type": "execute_result"
    }
   ],
   "source": [
    "type(k)             #Cadena de Caracteres string"
   ]
  },
  {
   "cell_type": "code",
   "execution_count": 7,
   "id": "e5faa6dc",
   "metadata": {},
   "outputs": [
    {
     "data": {
      "text/plain": [
       "bool"
      ]
     },
     "execution_count": 7,
     "metadata": {},
     "output_type": "execute_result"
    }
   ],
   "source": [
    "type(m)             #Lógico"
   ]
  },
  {
   "cell_type": "code",
   "execution_count": 8,
   "id": "5b79d5c4",
   "metadata": {},
   "outputs": [
    {
     "name": "stdout",
     "output_type": "stream",
     "text": [
      "<class 'int'>\n"
     ]
    }
   ],
   "source": [
    "print(type(x))"
   ]
  },
  {
   "cell_type": "markdown",
   "id": "263542d6",
   "metadata": {},
   "source": [
    "## 2. Operadores"
   ]
  },
  {
   "cell_type": "markdown",
   "id": "ea1186c1",
   "metadata": {},
   "source": [
    "### Aritméticos"
   ]
  },
  {
   "cell_type": "code",
   "execution_count": 9,
   "id": "0ac309d1",
   "metadata": {},
   "outputs": [
    {
     "data": {
      "text/plain": [
       "2.5"
      ]
     },
     "execution_count": 9,
     "metadata": {},
     "output_type": "execute_result"
    }
   ],
   "source": [
    "15 / 6"
   ]
  },
  {
   "cell_type": "code",
   "execution_count": 10,
   "id": "2cca0dcd",
   "metadata": {},
   "outputs": [
    {
     "data": {
      "text/plain": [
       "2"
      ]
     },
     "execution_count": 10,
     "metadata": {},
     "output_type": "execute_result"
    }
   ],
   "source": [
    "15 // 6"
   ]
  },
  {
   "cell_type": "code",
   "execution_count": 11,
   "id": "912f6772",
   "metadata": {},
   "outputs": [
    {
     "data": {
      "text/plain": [
       "3"
      ]
     },
     "execution_count": 11,
     "metadata": {},
     "output_type": "execute_result"
    }
   ],
   "source": [
    "15 % 6"
   ]
  },
  {
   "cell_type": "code",
   "execution_count": 37,
   "id": "557521a7",
   "metadata": {},
   "outputs": [
    {
     "name": "stdout",
     "output_type": "stream",
     "text": [
      "2.5\n",
      "2\n",
      "3\n"
     ]
    }
   ],
   "source": [
    "a = 15\n",
    "b = 6\n",
    "\n",
    "print(a/b)\n",
    "print(a//b)\n",
    "print(a%b)"
   ]
  },
  {
   "cell_type": "code",
   "execution_count": 13,
   "id": "5b9fed4c",
   "metadata": {},
   "outputs": [
    {
     "name": "stdout",
     "output_type": "stream",
     "text": [
      "4.5\n",
      "4\n",
      "3\n"
     ]
    }
   ],
   "source": [
    "a = 27\n",
    "b = 6\n",
    "\n",
    "print(a/b)\n",
    "print(a//b)\n",
    "print(a%b)"
   ]
  },
  {
   "cell_type": "markdown",
   "id": "8b00de22",
   "metadata": {},
   "source": [
    "**Orden de operadores**: La aritmética que aprendimos en la escuela primaria tiene convenciones sobre el orden en que se evalúan las operaciones. Algunos las recuerdan por un mnemotécnico como:"
   ]
  },
  {
   "cell_type": "markdown",
   "id": "32cff3e0",
   "metadata": {},
   "source": [
    "**PEMDAS** ‑ **P**arentheses, **E**xponents, **M**ultiplication/**D**ivision, **A**ddition/**S**ubtraction."
   ]
  },
  {
   "cell_type": "code",
   "execution_count": 38,
   "id": "cac2cae8",
   "metadata": {},
   "outputs": [
    {
     "data": {
      "text/plain": [
       "29.0"
      ]
     },
     "execution_count": 38,
     "metadata": {},
     "output_type": "execute_result"
    }
   ],
   "source": [
    "- 3 + 4 ** 2 * 10 / 5"
   ]
  },
  {
   "cell_type": "code",
   "execution_count": 15,
   "id": "ab2b4d3c",
   "metadata": {},
   "outputs": [
    {
     "data": {
      "text/plain": [
       "2.0"
      ]
     },
     "execution_count": 15,
     "metadata": {},
     "output_type": "execute_result"
    }
   ],
   "source": [
    "(- 3 + 4) ** 2 * 10 / 5"
   ]
  },
  {
   "cell_type": "markdown",
   "id": "2e1ce582",
   "metadata": {},
   "source": [
    "### Expresiones"
   ]
  },
  {
   "cell_type": "code",
   "execution_count": 17,
   "id": "b99d1ba9",
   "metadata": {},
   "outputs": [
    {
     "name": "stdout",
     "output_type": "stream",
     "text": [
      "28.0\n",
      "<class 'float'>\n"
     ]
    }
   ],
   "source": [
    "a = 6\n",
    "b = 9.5\n",
    "\n",
    "resultado = (a*b)//2\n",
    "\n",
    "print(resultado)\n",
    "print(type(resultado))"
   ]
  },
  {
   "cell_type": "markdown",
   "id": "744b3802",
   "metadata": {},
   "source": [
    "### Relacionales"
   ]
  },
  {
   "cell_type": "code",
   "execution_count": 18,
   "id": "c87b424a",
   "metadata": {},
   "outputs": [
    {
     "data": {
      "text/plain": [
       "False"
      ]
     },
     "execution_count": 18,
     "metadata": {},
     "output_type": "execute_result"
    }
   ],
   "source": [
    "10 > 50"
   ]
  },
  {
   "cell_type": "code",
   "execution_count": 19,
   "id": "c5fd7187",
   "metadata": {},
   "outputs": [
    {
     "data": {
      "text/plain": [
       "False"
      ]
     },
     "execution_count": 19,
     "metadata": {},
     "output_type": "execute_result"
    }
   ],
   "source": [
    "x = 100\n",
    "y = 14\n",
    "\n",
    "x == y"
   ]
  },
  {
   "cell_type": "code",
   "execution_count": 20,
   "id": "ad069609",
   "metadata": {},
   "outputs": [
    {
     "name": "stdout",
     "output_type": "stream",
     "text": [
      "False\n"
     ]
    }
   ],
   "source": [
    "print( x == y )"
   ]
  },
  {
   "cell_type": "markdown",
   "id": "edf669f0",
   "metadata": {},
   "source": [
    "### Lógicos"
   ]
  },
  {
   "cell_type": "code",
   "execution_count": 21,
   "id": "7aa3f066",
   "metadata": {},
   "outputs": [
    {
     "data": {
      "text/plain": [
       "False"
      ]
     },
     "execution_count": 21,
     "metadata": {},
     "output_type": "execute_result"
    }
   ],
   "source": [
    "A = True\n",
    "B = False\n",
    "\n",
    "A and B"
   ]
  },
  {
   "cell_type": "code",
   "execution_count": 22,
   "id": "5141640d",
   "metadata": {},
   "outputs": [
    {
     "name": "stdout",
     "output_type": "stream",
     "text": [
      "False\n"
     ]
    }
   ],
   "source": [
    "print(A and B)"
   ]
  },
  {
   "cell_type": "markdown",
   "id": "ead3e8cc",
   "metadata": {},
   "source": [
    "### Funciones Simples"
   ]
  },
  {
   "cell_type": "code",
   "execution_count": 25,
   "id": "a4ec0483",
   "metadata": {},
   "outputs": [
    {
     "name": "stdout",
     "output_type": "stream",
     "text": [
      "Buenos Dias\n",
      "Buenos Dias\n",
      "Buenos Dias\n"
     ]
    }
   ],
   "source": [
    "# Definimos una función simple\n",
    "# impresion repetida\n",
    "\n",
    "def imprime_3():\n",
    "    print(\"Buenos Dias\")\n",
    "    print(\"Buenos Dias\")\n",
    "    print(\"Buenos Dias\")\n",
    "    \n",
    "imprime_3()"
   ]
  },
  {
   "cell_type": "code",
   "execution_count": 26,
   "id": "d7985435",
   "metadata": {},
   "outputs": [
    {
     "name": "stdout",
     "output_type": "stream",
     "text": [
      "Buenos Dias \n",
      "Buenos Dias \n",
      "Buenos Dias \n",
      "\n"
     ]
    }
   ],
   "source": [
    "# Definimos una función simple\n",
    "# impresion repetida\n",
    "\n",
    "def imprime_3():\n",
    "    print('Buenos Dias \\n' * 3)\n",
    "    \n",
    "imprime_3()\n",
    "    "
   ]
  },
  {
   "cell_type": "code",
   "execution_count": 27,
   "id": "2f96564c",
   "metadata": {},
   "outputs": [
    {
     "name": "stdout",
     "output_type": "stream",
     "text": [
      "Hola \n",
      "Hola \n",
      "Hola \n",
      "\n"
     ]
    }
   ],
   "source": [
    "# Definimos una función simple\n",
    "# impresion repetida\n",
    "\n",
    "def imprime_3(a):\n",
    "    print(a * 3)\n",
    "    \n",
    "x = 'Hola \\n'\n",
    "\n",
    "imprime_3(x)\n",
    "    "
   ]
  },
  {
   "cell_type": "code",
   "execution_count": 28,
   "id": "ae8488f6",
   "metadata": {},
   "outputs": [
    {
     "name": "stdout",
     "output_type": "stream",
     "text": [
      "Hola Mundo \n",
      "Hola Mundo \n",
      "Hola Mundo \n",
      "\n"
     ]
    }
   ],
   "source": [
    "# Definimos una función simple\n",
    "# impresion repetida\n",
    "\n",
    "def imprime_3(a):\n",
    "    print(a * 3)\n",
    "    \n",
    "x = 'Hola Mundo \\n'\n",
    "\n",
    "imprime_3(x)\n",
    "    "
   ]
  },
  {
   "cell_type": "code",
   "execution_count": 29,
   "id": "a7f4e286",
   "metadata": {},
   "outputs": [
    {
     "name": "stdout",
     "output_type": "stream",
     "text": [
      "Hola a todos \n",
      "Hola a todos \n",
      "Hola a todos \n",
      "Hola a todos \n",
      "Hola a todos \n",
      "Hola a todos \n",
      "Hola a todos \n",
      "Hola a todos \n",
      "Hola a todos \n",
      "Hola a todos \n",
      "\n"
     ]
    }
   ],
   "source": [
    "# Definimos una función simple\n",
    "# impresion repetida\n",
    "\n",
    "def imprime_3(a):\n",
    "    print(a * 10)\n",
    "    \n",
    "x = 'Hola a todos \\n'\n",
    "\n",
    "imprime_3(x)\n",
    "    "
   ]
  },
  {
   "cell_type": "code",
   "execution_count": 30,
   "id": "056cea3a",
   "metadata": {},
   "outputs": [
    {
     "data": {
      "text/plain": [
       "4489"
      ]
     },
     "execution_count": 30,
     "metadata": {},
     "output_type": "execute_result"
    }
   ],
   "source": [
    "# Definimos una función simple\n",
    "# area del cuadrado\n",
    "\n",
    "def area_cuadrado(lado):\n",
    "    area = lado ** 2\n",
    "    return(area)\n",
    "\n",
    "area_cuadrado(67)"
   ]
  },
  {
   "cell_type": "code",
   "execution_count": 31,
   "id": "64266dfa",
   "metadata": {},
   "outputs": [
    {
     "name": "stdout",
     "output_type": "stream",
     "text": [
      "4489\n"
     ]
    }
   ],
   "source": [
    "# Definimos una función simple\n",
    "# area del cuadrado\n",
    "\n",
    "def area_cuadrado(lado):\n",
    "    area = lado ** 2\n",
    "    return(area)\n",
    "\n",
    "print(area_cuadrado(67))"
   ]
  },
  {
   "cell_type": "code",
   "execution_count": 32,
   "id": "8adacec1",
   "metadata": {},
   "outputs": [
    {
     "name": "stdout",
     "output_type": "stream",
     "text": [
      "36\n"
     ]
    }
   ],
   "source": [
    "# Definimos una función simple\n",
    "# area del cuadrado\n",
    "\n",
    "def area_cuadrado(lado):\n",
    "    area = lado ** 2\n",
    "    return(area)\n",
    "\n",
    "print(area_cuadrado(6))\n"
   ]
  },
  {
   "cell_type": "code",
   "execution_count": null,
   "id": "00b97901",
   "metadata": {},
   "outputs": [],
   "source": [
    "# utilizamos funciones matematicas conocidas\n",
    "\n",
    "import math\n",
    "\n",
    "pi = math.pi\n",
    "\n",
    "print(pi)\n"
   ]
  },
  {
   "cell_type": "code",
   "execution_count": null,
   "id": "4e245761",
   "metadata": {},
   "outputs": [],
   "source": [
    "# utilizamos funciones matematicas conocidas\n",
    "\n",
    "import math\n",
    "\n",
    "e = math.e\n",
    "\n",
    "print(e)\n"
   ]
  },
  {
   "cell_type": "code",
   "execution_count": 36,
   "id": "2f2f0516",
   "metadata": {},
   "outputs": [
    {
     "name": "stdout",
     "output_type": "stream",
     "text": [
      "6.283185307179586\n"
     ]
    }
   ],
   "source": [
    "# utilizamos funciones matematicas conocidas\n",
    "\n",
    "import math\n",
    "\n",
    "tau = math.tau\n",
    "\n",
    "print(tau)\n"
   ]
  },
  {
   "cell_type": "markdown",
   "id": "481d72ba",
   "metadata": {},
   "source": [
    "**¿Por qué utilizar Funciones?** Puede que no esté claro por qué vale la pena dividir un programa en funciones. Hay varias razones:\n",
    "- La creación de una nueva función le da la oportunidad de nombrar un grupo de sentencias, lo que hace que su programa sea más **fácil de leer y depurar**.\n",
    "- Las funciones pueden hacer que un **programa sea más pequeño** eliminando el código repetitivo. Más tarde, si haces un cambio, sólo tienes que hacerlo en un lugar.\n",
    "- Dividir un programa largo en funciones le permite **depurar las partes de una en una** y luego ensamblarlas en un todo de trabajo.\n",
    "- Las funciones bien diseñadas son a menudo **útiles para muchos programas**. Una vez que escribes y depuras uno, puedes reutilizarlo."
   ]
  },
  {
   "cell_type": "markdown",
   "id": "76432148",
   "metadata": {},
   "source": [
    "# EJEMPLOS"
   ]
  },
  {
   "cell_type": "markdown",
   "id": "18a544d6",
   "metadata": {},
   "source": [
    "## Variables"
   ]
  },
  {
   "cell_type": "code",
   "execution_count": null,
   "id": "08dd2faa",
   "metadata": {},
   "outputs": [],
   "source": [
    "#Cambiando el resultado de la impresión en pantalla\n",
    "\n",
    "x = \"Bienvenidos a Python\"\n",
    "y = 'en minúsculas'\n",
    "\n",
    "lowcase = x.lower()              #cadena de caracteres en minusculas\n",
    "uppcase = x.upper()              #cadena de caracteres en mayusculas\n",
    "titcase = y.title()              #cadena de caracteres como título\n",
    "\n",
    "print('\\n',lowcase)\n",
    "print('\\n',uppcase)\n",
    "print('\\n',titcase)"
   ]
  },
  {
   "cell_type": "code",
   "execution_count": 4,
   "id": "20b62a66",
   "metadata": {},
   "outputs": [
    {
     "name": "stdout",
     "output_type": "stream",
     "text": [
      "\t bienvenidos a python \t BIENVENIDOS A PYTHON \t En Minúsculas\n"
     ]
    }
   ],
   "source": [
    "#Cambiando el resultado de la impresión en pantalla Tabulando\n",
    "\n",
    "x = \"Bienvenidos a Python\"\n",
    "y = 'en minúsculas'\n",
    "\n",
    "lowcase = x.lower()           #cadena de caracteres en minusculas\n",
    "uppcase = x.upper()           #cadena de caracteres en mayusculas\n",
    "titcase = y.title()           #cadena de caracteres como título\n",
    "\n",
    "print('\\t',lowcase,'\\t',uppcase,'\\t',titcase)         #\\t  ingresa \"tabulado\""
   ]
  },
  {
   "cell_type": "code",
   "execution_count": 7,
   "id": "19242819",
   "metadata": {},
   "outputs": [
    {
     "name": "stdout",
     "output_type": "stream",
     "text": [
      "Hola, \n",
      " Me llamo:  Milo \n",
      " y tengo:  25 años.\n"
     ]
    }
   ],
   "source": [
    "#Cambiando el resultado de la impresión en pantalla mezcla con variables\n",
    "\n",
    "nom = \"Milo\"\n",
    "age = 25\n",
    "print(\"Hola, \\n Me llamo: \", nom, \"\\n y tengo: \", age, \"años.\")    #\\n  ingresa \"enter\""
   ]
  },
  {
   "cell_type": "code",
   "execution_count": 9,
   "id": "03948219",
   "metadata": {},
   "outputs": [
    {
     "name": "stdout",
     "output_type": "stream",
     "text": [
      "El valor de \"x\" es: 32.5, y el valor de \"y\" es 40000 ...\n",
      "El valor de \"x\" es:  32.5 , y el valor de \"y\" es 40000  ...\n"
     ]
    }
   ],
   "source": [
    "#imprimiendo en una variable\n",
    "x = 10 * 3.25\n",
    "y = 200 * 200\n",
    "\n",
    "#repr(obj): Retorna una cadena que contiene una representación imprimible de \"obj\".\n",
    "\n",
    "z = 'El valor de \"x\" es: ' + repr(x) + ', y el valor de \"y\" es ' + repr(y) + ' ...'\n",
    "\n",
    "print(z)\n",
    "\n",
    "print('El valor de \"x\" es: ',x,', y el valor de \"y\" es',y,' ...')"
   ]
  },
  {
   "cell_type": "markdown",
   "id": "6e322a19",
   "metadata": {},
   "source": [
    "## Formatear cadenas"
   ]
  },
  {
   "cell_type": "code",
   "execution_count": 14,
   "id": "e1461a11",
   "metadata": {},
   "outputs": [
    {
     "name": "stdout",
     "output_type": "stream",
     "text": [
      "El valor de \"pi\" es aproximadamente :3.142\n"
     ]
    }
   ],
   "source": [
    "#Formatear cadenas con f-strings\n",
    "#Importamos librería \"math\" para utilizar funciones adicionales de matemáticas\n",
    "import math\n",
    "\n",
    "print(f'El valor de \"pi\" es aproximadamente :{math.pi:.3f}')    # \".3f\" permite una precision de 3 decimales"
   ]
  },
  {
   "cell_type": "code",
   "execution_count": 15,
   "id": "cf3f7043",
   "metadata": {},
   "outputs": [
    {
     "name": "stdout",
     "output_type": "stream",
     "text": [
      "Hola,\n",
      " Me llamo: Milo \n",
      " y tengo: 25 años.\n"
     ]
    }
   ],
   "source": [
    "#reimprimiendo ejemplo anterior con variables\n",
    "nom = \"Milo\"\n",
    "age = 25\n",
    "\n",
    "print(f\"Hola,\\n Me llamo: {nom} \\n y tengo: {age} años.\")"
   ]
  },
  {
   "cell_type": "markdown",
   "id": "4e012b53",
   "metadata": {},
   "source": [
    "método **str.format()**:"
   ]
  },
  {
   "cell_type": "code",
   "execution_count": 16,
   "id": "d60bfae1",
   "metadata": {},
   "outputs": [
    {
     "name": "stdout",
     "output_type": "stream",
     "text": [
      "Hola,\n",
      " Me llamo: Milo \n",
      " y tengo: 25 años.\n"
     ]
    }
   ],
   "source": [
    "# Formatear cadenas con str.format()\n",
    "# Un número en las llaves se refiere a la posición del objeto pasado en el método str.format().\n",
    "# reimprimiendo ejemplo anterior con variables\n",
    "nom = \"Milo\"\n",
    "age = 25\n",
    "\n",
    "print(\"Hola,\\n Me llamo: {0} \\n y tengo: {1} años.\".format(nom,age))"
   ]
  },
  {
   "cell_type": "markdown",
   "id": "d0300561",
   "metadata": {},
   "source": [
    "## Función input ( )"
   ]
  },
  {
   "cell_type": "code",
   "execution_count": 17,
   "id": "12e9050c",
   "metadata": {},
   "outputs": [
    {
     "name": "stdout",
     "output_type": "stream",
     "text": [
      "Ingrese su Nombre\n",
      "María del Pilar Velasquez Condori\n",
      "Un gusto conocerte, María del Pilar Velasquez Condori\n"
     ]
    }
   ],
   "source": [
    "# Ingreso por teclado\n",
    "print(\"Ingrese su Nombre\")\n",
    "nom = input()\n",
    "\n",
    "print(f\"Un gusto conocerte, {nom}\")"
   ]
  },
  {
   "cell_type": "code",
   "execution_count": 2,
   "id": "c8013ea6",
   "metadata": {},
   "outputs": [
    {
     "name": "stdout",
     "output_type": "stream",
     "text": [
      "Ingrese su nombre: Rodrigo\n",
      "Un gusto conocerte, Rodrigo\n"
     ]
    }
   ],
   "source": [
    "# Ingreso por teclado una sola línea\n",
    "\n",
    "nom =input(\"Ingrese su nombre: \")\n",
    "\n",
    "print(f\"Un gusto conocerte, {nom}\")"
   ]
  },
  {
   "cell_type": "markdown",
   "id": "55c1c196",
   "metadata": {},
   "source": [
    "## Funciones"
   ]
  },
  {
   "cell_type": "code",
   "execution_count": 5,
   "id": "2b72664b",
   "metadata": {},
   "outputs": [
    {
     "name": "stdout",
     "output_type": "stream",
     "text": [
      "Ingrese nombre Producto: Laptop Lenovo\n",
      "Ingrese el Precio del Producto: 1000\n",
      "El importe total de Laptop Lenovo, es : 1180.0\n"
     ]
    }
   ],
   "source": [
    "# Hacer un programa que utilice una función que Calcule el Importe Total de un producto (precio + IGV),\n",
    "# se ingresa por teclado precio y nombre del producto\n",
    "\n",
    "def valor(precio):\n",
    "    igv = precio * 0.18\n",
    "    importe = precio + igv\n",
    "    return(importe)\n",
    "\n",
    "producto = input('Ingrese nombre Producto: ')\n",
    "imp = float(input(\"Ingrese el Precio del Producto: \"))          #CORREGIMOS cambiando el ingreso como tipo float\n",
    "\n",
    "\n",
    "print('El importe total de {0}, es : {1}'.format(producto,valor(imp)))"
   ]
  },
  {
   "cell_type": "code",
   "execution_count": null,
   "id": "6bc900f6",
   "metadata": {},
   "outputs": [],
   "source": []
  }
 ],
 "metadata": {
  "kernelspec": {
   "display_name": "Python 3 (ipykernel)",
   "language": "python",
   "name": "python3"
  },
  "language_info": {
   "codemirror_mode": {
    "name": "ipython",
    "version": 3
   },
   "file_extension": ".py",
   "mimetype": "text/x-python",
   "name": "python",
   "nbconvert_exporter": "python",
   "pygments_lexer": "ipython3",
   "version": "3.9.12"
  }
 },
 "nbformat": 4,
 "nbformat_minor": 5
}
