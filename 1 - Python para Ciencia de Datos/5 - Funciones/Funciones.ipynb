{
 "cells": [
  {
   "cell_type": "markdown",
   "id": "bd10cb67",
   "metadata": {},
   "source": [
    "#### <center> <h2>Funciones y excepciones</h2> </center>"
   ]
  },
  {
   "cell_type": "markdown",
   "id": "178af352",
   "metadata": {},
   "source": [
    "![linea 1](https://user-images.githubusercontent.com/19308295/115926252-2b8a0c00-a448-11eb-9d9c-b43beaf0ff68.png)"
   ]
  },
  {
   "cell_type": "markdown",
   "id": "442e5c6a",
   "metadata": {},
   "source": [
    "## <font color=#33A5FF>****1. Estructura Excepciones****<tfont>"
   ]
  },
  {
   "cell_type": "markdown",
   "id": "52e0cc3e",
   "metadata": {},
   "source": [
    "Las Excepciones se utiliza para evitar cortes durante la ejecución del programa."
   ]
  },
  {
   "cell_type": "code",
   "execution_count": null,
   "id": "040cf0d8",
   "metadata": {},
   "outputs": [],
   "source": [
    "try:\n",
    "    <código>\n",
    "    <código>\n",
    "    ..........\n",
    "except:\n",
    "    <código>\n",
    "    <código>\n",
    "    .........."
   ]
  },
  {
   "cell_type": "markdown",
   "id": "0db51841",
   "metadata": {},
   "source": [
    "El comando try funciona de la siguiente manera."
   ]
  },
  {
   "cell_type": "markdown",
   "id": "749fd00f",
   "metadata": {},
   "source": [
    "- Primero, se ejecuta la cláusula try (bloque de código entre las palabras clave try y except ).\n",
    "- Si no se produce ninguna excepción, se omite la cláusula except y try finaliza la ejecución de la instrucción.\n",
    "- Si se produce una excepción durante la ejecución de la cláusula try , se salta el resto de la cláusula.\n",
    "- Luego, si su tipo coincide con la excepción nombrada después de except , se ejecuta la cláusula except y luego la ejecución continúa después de try. \n",
    "- Si ocurre una excepción que no coincide con la excepción nombrada en la cláusula except , se pasa al Bloque despues de try ; si no se encuentra ningún controlador, es una excepción no controlada y la ejecución se detiene con un mensaje de error."
   ]
  },
  {
   "cell_type": "markdown",
   "id": "4f099673",
   "metadata": {},
   "source": [
    "   <hr color=\"blue\" size=20>"
   ]
  },
  {
   "cell_type": "markdown",
   "id": "7ba9fcce",
   "metadata": {},
   "source": [
    "# Típicos Errores"
   ]
  },
  {
   "cell_type": "code",
   "execution_count": null,
   "id": "6fb13211",
   "metadata": {},
   "outputs": [],
   "source": [
    "1/0\n",
    "z = 25\n",
    "print(z)"
   ]
  },
  {
   "cell_type": "markdown",
   "id": "0c6413d4",
   "metadata": {},
   "source": [
    "**ZeroDivisionError:** Se genera cuando el segundo argumento de una operación de división o módulo es cero. El valor asociado es una cadena que indica el tipo de operandos y la operación."
   ]
  },
  {
   "cell_type": "code",
   "execution_count": null,
   "id": "a8cdc9ad",
   "metadata": {},
   "outputs": [],
   "source": [
    "n = int(input())\n",
    "z = 25\n",
    "print(z)"
   ]
  },
  {
   "cell_type": "markdown",
   "id": "172df479",
   "metadata": {},
   "source": [
    "**ValueError:** Se genera cuando se aplica una operación o función a un objeto de tipo inadecuado. El valor asociado es una cadena que proporciona detalles sobre la falta de coincidencia de tipos."
   ]
  },
  {
   "cell_type": "markdown",
   "id": "8bd24aa0",
   "metadata": {},
   "source": [
    "https://docs.python.org/es/3/library/exceptions.html#ValueError"
   ]
  },
  {
   "cell_type": "markdown",
   "id": "09792dad",
   "metadata": {},
   "source": [
    "# Validación de números:"
   ]
  },
  {
   "cell_type": "code",
   "execution_count": 1,
   "id": "aaaf11f1",
   "metadata": {},
   "outputs": [
    {
     "name": "stdout",
     "output_type": "stream",
     "text": [
      "Ingresar un número: MAPI\n",
      "Error!!! no es un número válido\n",
      "Ingresar un número: fm\n",
      "Error!!! no es un número válido\n",
      "Ingresar un número: uwu\n",
      "Error!!! no es un número válido\n",
      "Ingresar un número: hola\n",
      "Error!!! no es un número válido\n",
      "Ingresar un número: 123\n"
     ]
    }
   ],
   "source": [
    "#validar ingreso de números enteros\n",
    "while True:\n",
    "    try:\n",
    "        x = int(input('Ingresar un número: '))\n",
    "        break\n",
    "    except ValueError:\n",
    "        print('Error!!! no es un número válido')"
   ]
  },
  {
   "cell_type": "markdown",
   "id": "fc996a9d",
   "metadata": {},
   "source": [
    "# Validación de números y otra condición:"
   ]
  },
  {
   "cell_type": "code",
   "execution_count": 1,
   "id": "8ddb444e",
   "metadata": {},
   "outputs": [
    {
     "name": "stdout",
     "output_type": "stream",
     "text": [
      "Ingresar un número positivo: -12\n",
      "\t Por favor, ingrese el número positivo\n",
      "Ingresar un número positivo: mapi\n",
      "Error, este no es un número positivo válido\n",
      "Ingresar un número positivo: -21\n",
      "\t Por favor, ingrese el número positivo\n",
      "Ingresar un número positivo: -100\n",
      "\t Por favor, ingrese el número positivo\n",
      "Ingresar un número positivo: 100\n"
     ]
    }
   ],
   "source": [
    "#validar ingreso de números enteros positivos\n",
    "while True:\n",
    "    try:\n",
    "        x = int(input(\"Ingresar un número positivo: \"))\n",
    "    except ValueError:\n",
    "        print(\"Error, este no es un número positivo válido\")\n",
    "        continue\n",
    "    if x < 0:\n",
    "        print(\"\\t Por favor, ingrese el número positivo\")\n",
    "        continue\n",
    "    break"
   ]
  },
  {
   "cell_type": "markdown",
   "id": "5db7cf7b",
   "metadata": {},
   "source": [
    "# Validación de números y otra condición:"
   ]
  },
  {
   "cell_type": "code",
   "execution_count": 3,
   "id": "2e3316de",
   "metadata": {},
   "outputs": [
    {
     "name": "stdout",
     "output_type": "stream",
     "text": [
      "Ingresar un número negativo: 12\n",
      "\t Por favor, ingrese el número negativo\n",
      "Ingresar un número negativo: 15\n",
      "\t Por favor, ingrese el número negativo\n",
      "Ingresar un número negativo: holis\n",
      "Error, este no es un número negativo válido\n",
      "Ingresar un número negativo: -12\n"
     ]
    }
   ],
   "source": [
    "#validar ingreso de números enteros positivos\n",
    "while True:\n",
    "    try:\n",
    "        x = int(input(\"Ingresar un número negativo: \"))\n",
    "    except ValueError:\n",
    "        print(\"Error, este no es un número negativo válido\")\n",
    "        continue\n",
    "    if x > 0:\n",
    "        print(\"\\t Por favor, ingrese el número negativo\")\n",
    "        continue\n",
    "    break"
   ]
  },
  {
   "cell_type": "markdown",
   "id": "cedc779f",
   "metadata": {},
   "source": [
    "   <hr color=\"blue\" size=20>"
   ]
  },
  {
   "cell_type": "markdown",
   "id": "928a2dea",
   "metadata": {},
   "source": [
    "## <font color=#33A5FF>****2. Estructura Funciones****<tfont>"
   ]
  },
  {
   "cell_type": "markdown",
   "id": "92ff8945",
   "metadata": {},
   "source": [
    "   <hr color=\"blue\" size=20>"
   ]
  },
  {
   "cell_type": "markdown",
   "id": "076c3b78",
   "metadata": {},
   "source": [
    "### ¿Por qué utilizar Funciones?"
   ]
  },
  {
   "cell_type": "markdown",
   "id": "6a70ca30",
   "metadata": {},
   "source": [
    "- La creación de una nueva función le da la oportunidad de nombrar un grupo de sentencias, lo que hace que su programa sea más fácil de leer y depurar.\n",
    "- Las funciones pueden hacer que un programa sea más pequeño eliminando el código repetitivo. Más tarde, si haces un cambio, sólo tienes que hacerlo en un lugar.\n",
    "- Dividir un programa largo en funciones le permite depurar las partes de una en una y luego ensamblarlas en un todo de trabajo.\n",
    "- Las funciones bien diseñadas son a menudo útiles para muchos programas. Una vez que escribes y depuras uno, puedes reutilizarlo."
   ]
  },
  {
   "cell_type": "code",
   "execution_count": null,
   "id": "278826ed",
   "metadata": {},
   "outputs": [],
   "source": [
    "def nombre_de_funcion(<argumento,s>):\n",
    "    <código>\n",
    "    <código>\n",
    "    ...................."
   ]
  },
  {
   "cell_type": "markdown",
   "id": "80f44687",
   "metadata": {},
   "source": [
    "El bloque de líneas de código despues de los : de la función se ejecutarán al momento de llamar a la dicha función."
   ]
  },
  {
   "cell_type": "markdown",
   "id": "30d6ad05",
   "metadata": {},
   "source": [
    "# Función Principal main"
   ]
  },
  {
   "cell_type": "code",
   "execution_count": 7,
   "id": "c611045f",
   "metadata": {},
   "outputs": [
    {
     "name": "stdout",
     "output_type": "stream",
     "text": [
      "Inicio de Programa\n",
      "Inicio de Programa\n",
      "\n",
      "\n",
      "\n",
      " Fin del programa\n"
     ]
    }
   ],
   "source": [
    "#Inicio mis programas con varias funciones\n",
    "def uno():\n",
    "    print('Inicio de Programa')\n",
    "\n",
    "def dos():\n",
    "    pass\n",
    "\n",
    "def fin():\n",
    "    print('\\n\\n\\n Fin del programa')\n",
    "\n",
    "\n",
    "#Programa MAIN principal\n",
    "if __name__ == '__main__':\n",
    "    uno()\n",
    "    dos()\n",
    "    uno()\n",
    "    dos()\n",
    "    fin()\n"
   ]
  },
  {
   "cell_type": "markdown",
   "id": "04101682",
   "metadata": {},
   "source": [
    "# Hacer un programa que solicite ingreso de DNI correctamente:"
   ]
  },
  {
   "cell_type": "code",
   "execution_count": 9,
   "id": "366540db",
   "metadata": {},
   "outputs": [
    {
     "name": "stdout",
     "output_type": "stream",
     "text": [
      "****         BONO FAMILIAR UNIVERSAL.        *****\n",
      "\n",
      "\n",
      "\n",
      "Ingrese DNI: holissss\n",
      "\tError!!! No es un DNI Válido... Intente de nuevo please]\n",
      "Ingrese DNI: 719766401\n",
      "\tError! Longitud de DNI no Válido ... Intente de nuevo please\n",
      "Ingrese DNI: mi dni es 71976640\n",
      "\tError!!! No es un DNI Válido... Intente de nuevo please]\n",
      "Ingrese DNI: esta bien esta bien, ahora sí\n",
      "\tError!!! No es un DNI Válido... Intente de nuevo please]\n",
      "Ingrese DNI: 71976640\n",
      "\n",
      "\tDNI VALIDO, VERY GOOD\n",
      "\n",
      "\n",
      " El DNI Ingresado es: ==> 71976640\n"
     ]
    }
   ],
   "source": [
    "#Mi primera función validar dni\n",
    "def validar_dni():\n",
    "    while True:\n",
    "        try:\n",
    "            dni = int(input('Ingrese DNI: '))\n",
    "            if len(str(dni)) == 8:\n",
    "                print('\\n\\tDNI VALIDO, VERY GOOD')\n",
    "                break\n",
    "            else:\n",
    "                print('\\tError! Longitud de DNI no Válido ... Intente de nuevo please')\n",
    "                continue\n",
    "\n",
    "        except ValueError:\n",
    "            print('\\tError!!! No es un DNI Válido... Intente de nuevo please]')\n",
    "\n",
    "    return dni\n",
    "\n",
    "\n",
    "\n",
    "#Programa MAIN principal\n",
    "\n",
    "if __name__ == '__main__':\n",
    "    titulo = ('         BONO FAMILIAR UNIVERSAL.        ')\n",
    "    print(titulo.center(50,'*'))\n",
    "    print('\\n\\n')\n",
    "\n",
    "    val_dni = validar_dni()\n",
    "\n",
    "    print('\\n\\n El DNI Ingresado es: ==>' , val_dni)"
   ]
  },
  {
   "cell_type": "markdown",
   "id": "703dca8f",
   "metadata": {},
   "source": [
    "   <hr color=\"blue\" size=20>"
   ]
  },
  {
   "cell_type": "markdown",
   "id": "0dd5337c",
   "metadata": {},
   "source": [
    "# <center> <font color=#33A5FF>****EJEMPLOS****<tfont> </center>"
   ]
  },
  {
   "cell_type": "markdown",
   "id": "fd07ceb4",
   "metadata": {},
   "source": [
    "   <hr color=\"blue\" size=20>"
   ]
  },
  {
   "cell_type": "markdown",
   "id": "e174e2da",
   "metadata": {},
   "source": [
    "RECORDAR que se deberan entregar 02 archivos ( carpeta persona ): 01 archivo Informe digitado en Practica06.ipynb ( Informe con texto enriquecido Markdown y HTML **Desarrollo** y **Ejemplos** ) 01 archivo Informe digitado en el entorno de desarrollo de Spyder llamado Practica06.py ( Informe ordenado con comentarios y código Python **Desarrollo** y **Ejemplos**)"
   ]
  },
  {
   "cell_type": "markdown",
   "id": "1fdc1c0c",
   "metadata": {},
   "source": [
    "## Hacer un programa que imprima un menú de opciones y que valide correctamente los ingresos:"
   ]
  },
  {
   "cell_type": "code",
   "execution_count": 1,
   "id": "05abeb84",
   "metadata": {},
   "outputs": [
    {
     "name": "stdout",
     "output_type": "stream",
     "text": [
      "\u001b[H\u001b[2J***************** Menú General  ******************\n",
      "\n",
      "\n",
      "\n",
      "Selecciona una Opción\n",
      "\t1 - Primera Opción\n",
      "\t2 - Segunda Opción\n",
      "\t3 - Tercera Opción\n",
      "\t9 - salir\n",
      "inserta un numero valor >> 293804\n",
      "\n",
      "No has pulsado ninguna opción correcta...\n",
      "pulsa una tecla para continuar\n",
      "\u001b[H\u001b[2J***************** Menú General  ******************\n",
      "\n",
      "\n",
      "\n",
      "Selecciona una Opción\n",
      "\t1 - Primera Opción\n",
      "\t2 - Segunda Opción\n",
      "\t3 - Tercera Opción\n",
      "\t9 - salir\n",
      "inserta un numero valor >> %%$&$\"\n",
      "\n",
      "No has pulsado ninguna opción correcta...\n",
      "pulsa una tecla para continuar\n",
      "\u001b[H\u001b[2J***************** Menú General  ******************\n",
      "\n",
      "\n",
      "\n",
      "Selecciona una Opción\n",
      "\t1 - Primera Opción\n",
      "\t2 - Segunda Opción\n",
      "\t3 - Tercera Opción\n",
      "\t9 - salir\n",
      "inserta un numero valor >> 3467\n",
      "\n",
      "No has pulsado ninguna opción correcta...\n",
      "pulsa una tecla para continuar\n",
      "\u001b[H\u001b[2J***************** Menú General  ******************\n",
      "\n",
      "\n",
      "\n",
      "Selecciona una Opción\n",
      "\t1 - Primera Opción\n",
      "\t2 - Segunda Opción\n",
      "\t3 - Tercera Opción\n",
      "\t9 - salir\n",
      "inserta un numero valor >> mapikd\n",
      "\n",
      "No has pulsado ninguna opción correcta...\n",
      "pulsa una tecla para continuar\n",
      "\u001b[H\u001b[2J***************** Menú General  ******************\n",
      "\n",
      "\n",
      "\n",
      "Selecciona una Opción\n",
      "\t1 - Primera Opción\n",
      "\t2 - Segunda Opción\n",
      "\t3 - Tercera Opción\n",
      "\t9 - salir\n",
      "inserta un numero valor >> 1\n",
      "\n",
      "Has pulsado la opción 1...\n",
      "pulsa una tecla para continuar\n",
      "\u001b[H\u001b[2J***************** Menú General  ******************\n",
      "\n",
      "\n",
      "\n",
      "Selecciona una Opción\n",
      "\t1 - Primera Opción\n",
      "\t2 - Segunda Opción\n",
      "\t3 - Tercera Opción\n",
      "\t9 - salir\n",
      "inserta un numero valor >> 3\n",
      "\n",
      "Has pulsado la opción 3...\n",
      "pulsa una tecla para continuar\n",
      "\u001b[H\u001b[2J***************** Menú General  ******************\n",
      "\n",
      "\n",
      "\n",
      "Selecciona una Opción\n",
      "\t1 - Primera Opción\n",
      "\t2 - Segunda Opción\n",
      "\t3 - Tercera Opción\n",
      "\t9 - salir\n",
      "inserta un numero valor >> 2\n",
      "\n",
      "Has pulsado la opción 2...\n",
      "pulsa una tecla para continuar\n",
      "\u001b[H\u001b[2J***************** Menú General  ******************\n",
      "\n",
      "\n",
      "\n",
      "Selecciona una Opción\n",
      "\t1 - Primera Opción\n",
      "\t2 - Segunda Opción\n",
      "\t3 - Tercera Opción\n",
      "\t9 - salir\n",
      "inserta un numero valor >> 9\n",
      "\tFINALIZO EL PROGRAMA!!!!!\n"
     ]
    }
   ],
   "source": [
    "#libreria del sistema operativo\n",
    "import os\n",
    "def menu():\n",
    "    \"\"\"\n",
    "    Función que limpia la pantalla y muestra nuevamente el menu\n",
    "    \"\"\"\n",
    "    os.system('clear') # Borra pantalla en un terminal, en Jupyter no funciona\n",
    "    titulo = (\" Menú General  \")\n",
    "    print (titulo.center(50,'*'))\n",
    "    print ('\\n\\n')\n",
    "    print (\"Selecciona una Opción\")\n",
    "    print (\"\\t1 - Primera Opción\")\n",
    "    print (\"\\t2 - Segunda Opción\")\n",
    "    print (\"\\t3 - Tercera Opción\")\n",
    "    print (\"\\t9 - salir\")\n",
    "    \n",
    "\n",
    "def validar():\n",
    "    while True:\n",
    "        # Mostramos el menu\n",
    "        menu()\n",
    "\n",
    "        # solicitamos una opción al usuario\n",
    "        opcionMenu = input(\"inserta un numero valor >> \")\n",
    "\n",
    "\n",
    "        if opcionMenu == \"1\":\n",
    "            print (\"\")\n",
    "            input(\"Has pulsado la opción 1...\\npulsa una tecla para continuar\")            \n",
    "        elif opcionMenu == \"2\":\n",
    "            print (\"\")\n",
    "            input(\"Has pulsado la opción 2...\\npulsa una tecla para continuar\")\n",
    "        elif opcionMenu == \"3\":\n",
    "            print (\"\")\n",
    "            input(\"Has pulsado la opción 3...\\npulsa una tecla para continuar\")\n",
    "        elif opcionMenu == \"9\":\n",
    "            break\n",
    "        else:\n",
    "            print (\"\")\n",
    "            input(\"No has pulsado ninguna opción correcta...\\npulsa una tecla para continuar\")\n",
    "    return opcionMenu\n",
    "if __name__ == '__main__':\n",
    "    validar()\n",
    "\n",
    "    print('\\tFINALIZO EL PROGRAMA!!!!!')"
   ]
  },
  {
   "cell_type": "markdown",
   "id": "061a8dba",
   "metadata": {},
   "source": [
    "# Hacer un programa que imprima una lista de opciones de doramas y que valide correctamente los ingresos:"
   ]
  },
  {
   "cell_type": "code",
   "execution_count": 1,
   "id": "f6ca2fe1",
   "metadata": {},
   "outputs": [
    {
     "name": "stdout",
     "output_type": "stream",
     "text": [
      "\u001b[H\u001b[2J***************  Lista de doramas  ***************\n",
      "\n",
      "\n",
      "\n",
      "Selecciona una Opción\n",
      "\t1 - Startup\n",
      "\t2 - Two Worlds\n",
      "\t3 - Black\n",
      "\t9 - salir\n",
      "inserta un numero valor >> mapi\n",
      "\n",
      "No has pulsado ninguna opción correcta...\n",
      "pulsa una tecla para continuar\n",
      "\u001b[H\u001b[2J***************  Lista de doramas  ***************\n",
      "\n",
      "\n",
      "\n",
      "Selecciona una Opción\n",
      "\t1 - Startup\n",
      "\t2 - Two Worlds\n",
      "\t3 - Black\n",
      "\t9 - salir\n",
      "inserta un numero valor >> 36134\n",
      "\n",
      "No has pulsado ninguna opción correcta...\n",
      "pulsa una tecla para continuar\n",
      "\u001b[H\u001b[2J***************  Lista de doramas  ***************\n",
      "\n",
      "\n",
      "\n",
      "Selecciona una Opción\n",
      "\t1 - Startup\n",
      "\t2 - Two Worlds\n",
      "\t3 - Black\n",
      "\t9 - salir\n",
      "inserta un numero valor >> &%$\n",
      "\n",
      "No has pulsado ninguna opción correcta...\n",
      "pulsa una tecla para continuar\n",
      "\u001b[H\u001b[2J***************  Lista de doramas  ***************\n",
      "\n",
      "\n",
      "\n",
      "Selecciona una Opción\n",
      "\t1 - Startup\n",
      "\t2 - Two Worlds\n",
      "\t3 - Black\n",
      "\t9 - salir\n",
      "inserta un numero valor >> 1\n",
      "\n",
      "Has pulsado la opción 1...\n",
      "pulsa una tecla para continuar\n",
      "\u001b[H\u001b[2J***************  Lista de doramas  ***************\n",
      "\n",
      "\n",
      "\n",
      "Selecciona una Opción\n",
      "\t1 - Startup\n",
      "\t2 - Two Worlds\n",
      "\t3 - Black\n",
      "\t9 - salir\n",
      "inserta un numero valor >> 2\n",
      "\n",
      "Has pulsado la opción 2...\n",
      "pulsa una tecla para continuar\n",
      "\u001b[H\u001b[2J***************  Lista de doramas  ***************\n",
      "\n",
      "\n",
      "\n",
      "Selecciona una Opción\n",
      "\t1 - Startup\n",
      "\t2 - Two Worlds\n",
      "\t3 - Black\n",
      "\t9 - salir\n",
      "inserta un numero valor >> 3\n",
      "\n",
      "Has pulsado la opción 3...\n",
      "pulsa una tecla para continuar\n",
      "\u001b[H\u001b[2J***************  Lista de doramas  ***************\n",
      "\n",
      "\n",
      "\n",
      "Selecciona una Opción\n",
      "\t1 - Startup\n",
      "\t2 - Two Worlds\n",
      "\t3 - Black\n",
      "\t9 - salir\n",
      "inserta un numero valor >> 9\n",
      "\tFINALIZO EL PROGRAMA!!!!!\n"
     ]
    }
   ],
   "source": [
    "#libreria del sistema operativo\n",
    "import os\n",
    "def doramas():\n",
    "    \"\"\"\n",
    "    Función que limpia la pantalla y muestra nuevamente el menu\n",
    "    \"\"\"\n",
    "    os.system('clear') # Borra pantalla en un terminal, en Jupyter no funciona\n",
    "    titulo = (\"  Lista de doramas  \")\n",
    "    print (titulo.center(50,'*'))\n",
    "    print ('\\n\\n')\n",
    "    print (\"Selecciona una Opción\")\n",
    "    print (\"\\t1 - Startup\")\n",
    "    print (\"\\t2 - Two Worlds\")\n",
    "    print (\"\\t3 - Black\")\n",
    "    print (\"\\t9 - salir\")\n",
    "    \n",
    "\n",
    "def validar():\n",
    "    while True:\n",
    "        # Mostramos la lista de doramas\n",
    "        doramas()\n",
    "\n",
    "        # solicitamos una opción al usuario\n",
    "        opcionDoramas = input(\"inserta un numero valor >> \")\n",
    "\n",
    "\n",
    "        if opcionDoramas == \"1\":\n",
    "            print (\"\")\n",
    "            input(\"Has pulsado la opción 1...\\npulsa una tecla para continuar\")            \n",
    "        elif opcionDoramas == \"2\":\n",
    "            print (\"\")\n",
    "            input(\"Has pulsado la opción 2...\\npulsa una tecla para continuar\")\n",
    "        elif opcionDoramas == \"3\":\n",
    "            print (\"\")\n",
    "            input(\"Has pulsado la opción 3...\\npulsa una tecla para continuar\")\n",
    "        elif opcionDoramas == \"9\":\n",
    "            break\n",
    "        else:\n",
    "            print (\"\")\n",
    "            input(\"No has pulsado ninguna opción correcta...\\npulsa una tecla para continuar\")\n",
    "    return opcionDoramas\n",
    "if __name__ == '__main__':\n",
    "    validar()\n",
    "\n",
    "    print('\\tFINALIZO EL PROGRAMA!!!!!')"
   ]
  },
  {
   "cell_type": "markdown",
   "id": "c7dd49bb",
   "metadata": {},
   "source": [
    "# Hacer un programa que solicite ingreso de CUI correctamente:"
   ]
  },
  {
   "cell_type": "code",
   "execution_count": 2,
   "id": "097ec6ff",
   "metadata": {},
   "outputs": [
    {
     "name": "stdout",
     "output_type": "stream",
     "text": [
      "**         PLATAFORMA DE LA UNSA - DUTIC        **\n",
      "\n",
      "\n",
      "\n",
      "Ingrese CUI: mapi\n",
      "\tError!!! No es un CUI Válido... Intente de nuevo please\n",
      "Ingrese CUI: 23974\n",
      "\tError! Longitud de CUI no Válido ... Intente de nuevo please\n",
      "Ingrese CUI: mapi20211830\n",
      "\tError!!! No es un CUI Válido... Intente de nuevo please\n",
      "Ingrese CUI: 20211830\n",
      "\n",
      "\tCUI VALIDO, VERY GOOD\n",
      "\n",
      "\n",
      " El CUI Ingresado es: ==> 20211830\n"
     ]
    }
   ],
   "source": [
    "#Mi segunda función validar cui\n",
    "def validar_cui():\n",
    "    while True:\n",
    "        try:\n",
    "            cui = int(input('Ingrese CUI: '))\n",
    "            if len(str(cui)) == 8:\n",
    "                print('\\n\\tCUI VALIDO, VERY GOOD')\n",
    "                break\n",
    "            else:\n",
    "                print('\\tError! Longitud de CUI no Válido ... Intente de nuevo please')\n",
    "                continue\n",
    "\n",
    "        except ValueError:\n",
    "            print('\\tError!!! No es un CUI Válido... Intente de nuevo please')\n",
    "\n",
    "    return cui\n",
    "\n",
    "\n",
    "\n",
    "#Programa MAIN principal\n",
    "\n",
    "if __name__ == '__main__':\n",
    "    titulo = ('         PLATAFORMA DE LA UNSA - DUTIC        ')\n",
    "    print(titulo.center(50,'*'))\n",
    "    print('\\n\\n')\n",
    "\n",
    "    val_cui = validar_cui()\n",
    "\n",
    "    print('\\n\\n El CUI Ingresado es: ==>' , val_cui)"
   ]
  },
  {
   "cell_type": "code",
   "execution_count": 2,
   "id": "8c558d3c",
   "metadata": {},
   "outputs": [],
   "source": []
  }
 ],
 "metadata": {
  "kernelspec": {
   "display_name": "Python 3 (ipykernel)",
   "language": "python",
   "name": "python3"
  },
  "language_info": {
   "codemirror_mode": {
    "name": "ipython",
    "version": 3
   },
   "file_extension": ".py",
   "mimetype": "text/x-python",
   "name": "python",
   "nbconvert_exporter": "python",
   "pygments_lexer": "ipython3",
   "version": "3.9.12"
  }
 },
 "nbformat": 4,
 "nbformat_minor": 5
}
