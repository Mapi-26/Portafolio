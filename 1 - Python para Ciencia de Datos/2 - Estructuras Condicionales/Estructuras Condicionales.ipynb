{
 "cells": [
  {
   "cell_type": "markdown",
   "id": "a9b4150b",
   "metadata": {},
   "source": [
    "#### <center> <h2>Estructuras Condicionales</h2> </center>"
   ]
  },
  {
   "cell_type": "markdown",
   "id": "ce2c4460",
   "metadata": {},
   "source": [
    "![linea 1](https://user-images.githubusercontent.com/19308295/115926252-2b8a0c00-a448-11eb-9d9c-b43beaf0ff68.png)"
   ]
  },
  {
   "cell_type": "markdown",
   "id": "aaf1dbcd",
   "metadata": {},
   "source": [
    "## 1. Introducción a Listas"
   ]
  },
  {
   "cell_type": "markdown",
   "id": "7ac8d9c1",
   "metadata": {},
   "source": [
    "**Lista**: es una colección ordenada de **valores**. Los valores que componen una lista se llaman sus elementos, o\n",
    "sus artículos. Usaremos el término elemento o ítem para que signifique lo mismo. Las listas son ***similares a las\n",
    "cadenas de texto***, que son colecciones ordenadas de caracteres, excepto que los elementos de una lista\n",
    "pueden ser de cualquier tipo."
   ]
  },
  {
   "cell_type": "code",
   "execution_count": 3,
   "id": "8b23177e",
   "metadata": {},
   "outputs": [
    {
     "name": "stdout",
     "output_type": "stream",
     "text": [
      "La frase inicia con la letra:  S\n",
      "La frase termina con la letra:  n\n"
     ]
    }
   ],
   "source": [
    "cadena = \"Si quieres aprender, enseña. Marco Tulio Cicerón\"      #Cadena de texto o String\n",
    "\n",
    "print('La frase inicia con la letra: ',cadena[0])               #Accediendo al primer elemento de la Cadena de texto\n",
    "\n",
    "print('La frase termina con la letra: ',cadena[-1])"
   ]
  },
  {
   "cell_type": "code",
   "execution_count": 4,
   "id": "42d5d8cd",
   "metadata": {},
   "outputs": [
    {
     "name": "stdout",
     "output_type": "stream",
     "text": [
      "La frase inicia con la letra:  S\n",
      "La frase termina con la letra:  i\n"
     ]
    }
   ],
   "source": [
    "cadena = \"Si quieres aprender, enseña. Marco Tulio Cicerón\"      #Cadena de texto o String\n",
    "\n",
    "print('La frase inicia con la letra: ',cadena[0])               #Accediendo al primer elemento de la Cadena de texto\n",
    "\n",
    "print('La frase termina con la letra: ',cadena[-6])"
   ]
  },
  {
   "cell_type": "code",
   "execution_count": 5,
   "id": "c405a0da",
   "metadata": {},
   "outputs": [
    {
     "name": "stdout",
     "output_type": "stream",
     "text": [
      "La frase inicia con la letra:  S\n",
      "La frase termina con la letra:  c\n"
     ]
    }
   ],
   "source": [
    "cadena = \"Si quieres aprender, enseña. Marco Tulio Cicerón\"      #Cadena de texto o String\n",
    "\n",
    "print('La frase inicia con la letra: ',cadena[0])               #Accediendo al primer elemento de la Cadena de texto\n",
    "\n",
    "print('La frase termina con la letra: ',cadena[-16])"
   ]
  },
  {
   "cell_type": "code",
   "execution_count": 6,
   "id": "a4822b88",
   "metadata": {},
   "outputs": [
    {
     "name": "stdout",
     "output_type": "stream",
     "text": [
      "La frase inicia con la letra:  i\n",
      "La frase termina con la letra:  n\n"
     ]
    }
   ],
   "source": [
    "cadena = \"Si quieres aprender, enseña. Marco Tulio Cicerón\"      #Cadena de texto o String\n",
    "\n",
    "print('La frase inicia con la letra: ',cadena[5])               #Accediendo al primer elemento de la Cadena de texto\n",
    "\n",
    "print('La frase termina con la letra: ',cadena[-1])"
   ]
  },
  {
   "cell_type": "markdown",
   "id": "3b344be7",
   "metadata": {},
   "source": [
    "### Divida una cadena en una lista donde cada palabra sea un elemento de la lista:"
   ]
  },
  {
   "cell_type": "code",
   "execution_count": 8,
   "id": "aef92c39",
   "metadata": {},
   "outputs": [
    {
     "name": "stdout",
     "output_type": "stream",
     "text": [
      "['Si', 'quieres', 'aprender,', 'enseña.', 'Marco', 'Tulio', 'Cicerón']\n"
     ]
    }
   ],
   "source": [
    "lista_de_cadena = cadena.split() #método split convierte una cadena a lista\n",
    "\n",
    "print(lista_de_cadena)\n"
   ]
  },
  {
   "cell_type": "markdown",
   "id": "d4279e0c",
   "metadata": {},
   "source": [
    "### Los elementos de la lista pueden ser de cualquier tipo :"
   ]
  },
  {
   "cell_type": "code",
   "execution_count": 1,
   "id": "8acf15bd",
   "metadata": {},
   "outputs": [
    {
     "name": "stdout",
     "output_type": "stream",
     "text": [
      "['luis', 'pablo', 'mili', 'gabriela', 'oscar']\n"
     ]
    }
   ],
   "source": [
    "lista_de_nombres = ['luis', 'pablo', 'mili', 'gabriela', 'oscar'] #lista se crea con \"[]\" y se separa con\",\"\n",
    "\n",
    "print(lista_de_nombres)\n"
   ]
  },
  {
   "cell_type": "code",
   "execution_count": 2,
   "id": "d71fb1e6",
   "metadata": {},
   "outputs": [
    {
     "name": "stdout",
     "output_type": "stream",
     "text": [
      "['Jhiordy', 'Juan', 'Adrian', 'Astrid', 'Karoll', 'Mapi']\n"
     ]
    }
   ],
   "source": [
    "lista_de_nombres = ['Jhiordy', 'Juan', 'Adrian', 'Astrid', 'Karoll', 'Mapi'] #lista se crea con \"[]\" y se separa con\",\"\n",
    "\n",
    "print(lista_de_nombres)\n"
   ]
  },
  {
   "cell_type": "code",
   "execution_count": 7,
   "id": "47b6d107",
   "metadata": {},
   "outputs": [
    {
     "name": "stdout",
     "output_type": "stream",
     "text": [
      "[20, 30, 40, 50, 60, 70]\n",
      "20\n",
      "350\n",
      "40\n",
      "\n",
      "\n",
      "['Jhiordy', 'Juan', 'Adrian', 'Astrid', 'Karoll', 'Mapi']\n",
      "Jhiordy\n",
      "MAPI\n",
      "Adrian\n"
     ]
    }
   ],
   "source": [
    "lista_números = [20, 30, 40, 50, 60, 70]    #lista es una secuencia ordenada de valores\n",
    "print(lista_números)\n",
    "\n",
    "#Accediendo a los elementos de una lista\n",
    "print(lista_números[0])         #accediendo al primer elemento de una lista \n",
    "print(lista_números[-1]*5)         #accediendo al último elemento de una lista multiplicado por 5 \n",
    "\n",
    "print(lista_números[2])\n",
    "\n",
    "print('\\n')\n",
    "\n",
    "print(lista_de_nombres)\n",
    "print(lista_de_nombres[0].title())       #accediendo al primer elemento de una lista\n",
    "print(lista_de_nombres[-1].upper())       #accediendo al último elemento de una lista\n",
    "print(lista_de_nombres[2]) "
   ]
  },
  {
   "cell_type": "code",
   "execution_count": 10,
   "id": "a7810766",
   "metadata": {},
   "outputs": [
    {
     "name": "stdout",
     "output_type": "stream",
     "text": [
      "[5, 10, 15, 20, 25, 30]\n",
      "5\n",
      "75\n",
      "15\n",
      "\n",
      "\n",
      "['Jhiordy', 'Juan', 'Adrian', 'Astrid', 'Karoll', 'Mapi']\n",
      "Astrid\n",
      "MAPI\n",
      "Karoll\n"
     ]
    }
   ],
   "source": [
    "lista_números = [5, 10, 15, 20, 25, 30]    #lista es una secuencia ordenada de valores\n",
    "print(lista_números)\n",
    "\n",
    "#Accediendo a los elementos de una lista\n",
    "print(lista_números[0])         #accediendo al primer elemento de una lista \n",
    "print(lista_números[-4]*5)         #accediendo al último elemento de una lista multiplicado por 5 \n",
    "\n",
    "print(lista_números[2])\n",
    "\n",
    "print('\\n')\n",
    "\n",
    "print(lista_de_nombres)\n",
    "print(lista_de_nombres[3].title())       #accediendo al primer elemento de una lista\n",
    "print(lista_de_nombres[-1].upper())       #accediendo al último elemento de una lista\n",
    "print(lista_de_nombres[4]) "
   ]
  },
  {
   "cell_type": "markdown",
   "id": "0a4926cd",
   "metadata": {},
   "source": [
    "### Modificando elementos en una lista, porque la lista es mutable :"
   ]
  },
  {
   "cell_type": "code",
   "execution_count": 11,
   "id": "a58dafec",
   "metadata": {},
   "outputs": [
    {
     "name": "stdout",
     "output_type": "stream",
     "text": [
      "['Love Alarm', 'Startup', 'Black', 'Two Worlds', 'True Beauty']\n",
      "['Love Alarm', 'Startup', 'Black', 'Two Worlds', 'True Beauty']\n"
     ]
    }
   ],
   "source": [
    "Doramas = ['Love Alarm', 'Startup', 'Black', 'Two Worlds', 'True Beauty']\n",
    "\n",
    "print(Doramas)\n",
    "\n",
    "Doramas[1] = 'Startup'   #puedo cambiar cada elemento de la lista indicando posición\n",
    "Doramas[-1] = 'True Beauty'   #las listas son mutables\n",
    "\n",
    "print(Doramas)"
   ]
  },
  {
   "cell_type": "markdown",
   "id": "ce07c952",
   "metadata": {},
   "source": [
    "### Adicionando elementos a una lista :"
   ]
  },
  {
   "cell_type": "code",
   "execution_count": 12,
   "id": "e0df0313",
   "metadata": {},
   "outputs": [
    {
     "name": "stdout",
     "output_type": "stream",
     "text": [
      "['Love Alarm', 'Startup', 'Black', 'Two Worlds', 'True Beauty', 'Kingdom']\n",
      "['Love Alarm', 'Startup', 'Black', 'Two Worlds', 'True Beauty', 'Kingdom', 'Juego del Calamar', 'Alice']\n"
     ]
    }
   ],
   "source": [
    "Doramas = ['Love Alarm', 'Startup', 'Black', 'Two Worlds', 'True Beauty']\n",
    "Doramas.append('Kingdom')                    #utilizamos el metodo append, adicional al último lugar \n",
    "\n",
    "print(Doramas)\n",
    "\n",
    "Series = ['Juego del Calamar', 'Alice']   \n",
    "Doramas2 = Doramas + Series   #sumamos 02 listas\n",
    "\n",
    "print(Doramas2)"
   ]
  },
  {
   "cell_type": "markdown",
   "id": "c82f2ddf",
   "metadata": {},
   "source": [
    "### Borrando elementos de una lista :"
   ]
  },
  {
   "cell_type": "code",
   "execution_count": 21,
   "id": "edbd319f",
   "metadata": {},
   "outputs": [
    {
     "name": "stdout",
     "output_type": "stream",
     "text": [
      "\n",
      "Lista Doramas Original\n",
      "['Love Alarm', 'Startup', 'Black', 'Two Worlds', 'True Beauty', 'Kingdom', 'Juego del Calamar', 'Alice']\n",
      "\n",
      "Lista borrando el ultimo dorama\n",
      "['Love Alarm', 'Startup', 'Black', 'Two Worlds', 'True Beauty', 'Kingdom', 'Juego del Calamar']\n",
      "\n",
      "Lista borrando el dorama nuevamente\n",
      "['Love Alarm', 'Startup', 'Black', 'Two Worlds', 'Kingdom', 'Juego del Calamar']\n",
      "\n",
      "Dorama Borrado\n",
      "TRUE BEAUTY\n",
      "\n",
      "Lista Borrando Serie KINGDOM\n",
      "['Love Alarm', 'Startup', 'Black', 'Two Worlds', 'Juego del Calamar']\n",
      "\n",
      "Serie Borrada\n",
      "\n",
      "La Serie KINGDOM es un poco triste para mí\n"
     ]
    }
   ],
   "source": [
    "Doramas2 = ['Love Alarm', 'Startup', 'Black', 'Two Worlds', 'True Beauty', 'Kingdom', 'Juego del Calamar', 'Alice']\n",
    "print(\"\\nLista Doramas Original\")\n",
    "print(Doramas2)\n",
    "\n",
    "del Doramas2[-1]                      #borramos 01 elemento con el comando \"del\" indicando posición del elemento\n",
    "print(\"\\nLista borrando el ultimo dorama\")\n",
    "print(Doramas2)\n",
    "\n",
    "b_Doramas2 = Doramas2.pop (4)         #metodo \"pop\" Borra posición \"4\" de la lista, se puede almancenar el valor \n",
    "print(\"\\nLista borrando el dorama nuevamente\")\n",
    "print(Doramas2)\n",
    "print(\"\\nDorama Borrado\")\n",
    "print(b_Doramas2.upper())\n",
    "\n",
    "\n",
    "t_serie= 'Kingdom'   #metodo que borra la serie llamada 'Alice'\n",
    "Doramas2.remove(t_serie)\n",
    "print(f\"\\nLista Borrando Serie {t_serie.upper()}\")\n",
    "print(Doramas2)\n",
    "print(\"\\nSerie Borrada\")\n",
    "print(f\"\\nLa Serie {t_serie.upper()} es un poco triste para mí\")"
   ]
  },
  {
   "cell_type": "markdown",
   "id": "83506914",
   "metadata": {},
   "source": [
    "### Ordenamos una lista :"
   ]
  },
  {
   "cell_type": "code",
   "execution_count": 22,
   "id": "03bdc386",
   "metadata": {},
   "outputs": [
    {
     "name": "stdout",
     "output_type": "stream",
     "text": [
      "\n",
      "Lista Original\n",
      "['Killing me', 'Love Scenario', 'Goodbye Road', 'Best Friend', 'Why why why', \"I'm OK\"]\n",
      "\n",
      "Lista Ordenada\n",
      "['Best Friend', 'Goodbye Road', \"I'm OK\", 'Killing me', 'Love Scenario', 'Why why why']\n",
      "\n",
      "Lista Ordenada a la Inversa\n",
      "['Why why why', 'Love Scenario', 'Killing me', \"I'm OK\", 'Goodbye Road', 'Best Friend']\n"
     ]
    }
   ],
   "source": [
    "canciones = [\"Killing me\", \"Love Scenario\", \"Goodbye Road\", \"Best Friend\", \"Why why why\", \"I'm OK\"]\n",
    "print(\"\\nLista Original\")\n",
    "print(canciones)\n",
    "\n",
    "print(\"\\nLista Ordenada\")\n",
    "canciones.sort()     #utilizamos el metodo \"sort\" que hace el cambio de la lista\n",
    "print(canciones)\n",
    "\n",
    "print(\"\\nLista Ordenada a la Inversa\")\n",
    "canciones.reverse()     #Utilizamos el metodo \"reverse\" que hace el cambio de la lista\n",
    "print(canciones)"
   ]
  },
  {
   "cell_type": "code",
   "execution_count": 23,
   "id": "7b156032",
   "metadata": {},
   "outputs": [
    {
     "name": "stdout",
     "output_type": "stream",
     "text": [
      "\n",
      "Lista Original\n",
      "[40, -5, 600, 54735, -9, 8631, -7373, 2952395]\n",
      "\n",
      "Lista Ordenada Temporal\n",
      "[-7373, -9, -5, 40, 600, 8631, 54735, 2952395]\n",
      "\n",
      "Lista Original de nuevo\n",
      "[40, -5, 600, 54735, -9, 8631, -7373, 2952395]\n"
     ]
    }
   ],
   "source": [
    "num = [40, -5, 600, 54735, -9, 8631, -7373, 2952395]\n",
    "print(\"\\nLista Original\")\n",
    "print(num)\n",
    "\n",
    "print(\"\\nLista Ordenada Temporal\")\n",
    "print(sorted(num))     #utilizamos función \"sorted\" que hace el cambio de la lista temporal\n",
    "\n",
    "print(\"\\nLista Original de nuevo\")\n",
    "print(num)"
   ]
  },
  {
   "cell_type": "markdown",
   "id": "a1c19c9b",
   "metadata": {},
   "source": [
    "### Longitud de una lista :"
   ]
  },
  {
   "cell_type": "code",
   "execution_count": 24,
   "id": "c509ca33",
   "metadata": {},
   "outputs": [
    {
     "name": "stdout",
     "output_type": "stream",
     "text": [
      "Cantidad de canciones\n",
      "6\n",
      "\n",
      "Cantidad de Números\n",
      "8\n"
     ]
    }
   ],
   "source": [
    "print(\"Cantidad de canciones\")\n",
    "print(len(canciones))\n",
    "\n",
    "print(\"\\nCantidad de Números\")\n",
    "print(len(num))"
   ]
  },
  {
   "cell_type": "code",
   "execution_count": 25,
   "id": "efa31f40",
   "metadata": {},
   "outputs": [
    {
     "name": "stdout",
     "output_type": "stream",
     "text": [
      "Cantidad de Doramas2\n",
      "5\n"
     ]
    }
   ],
   "source": [
    "print(\"Cantidad de Doramas2\")\n",
    "print(len(Doramas2))"
   ]
  },
  {
   "cell_type": "markdown",
   "id": "455671d2",
   "metadata": {},
   "source": [
    "## 2. Estructuras Condicionales"
   ]
  },
  {
   "cell_type": "markdown",
   "id": "cb660346",
   "metadata": {},
   "source": [
    "### Condiciones Simples"
   ]
  },
  {
   "cell_type": "code",
   "execution_count": 26,
   "id": "ce0595d6",
   "metadata": {},
   "outputs": [
    {
     "name": "stdout",
     "output_type": "stream",
     "text": [
      "True\n",
      "False\n"
     ]
    }
   ],
   "source": [
    "x = \"Guido\"\n",
    "\n",
    "print(\"i\" in x)\n",
    "print(\"i\" not in x)"
   ]
  },
  {
   "cell_type": "code",
   "execution_count": 28,
   "id": "37709bec",
   "metadata": {},
   "outputs": [
    {
     "name": "stdout",
     "output_type": "stream",
     "text": [
      "False\n",
      "True\n"
     ]
    }
   ],
   "source": [
    "frutas = [\"naranja\", \"platano\", \"manzana\", \"durazno\", \"piña\"]\n",
    "\n",
    "print(\"papaya\" in frutas)\n",
    "print(\"durazno\" in frutas)"
   ]
  },
  {
   "cell_type": "markdown",
   "id": "1d7fd4f9",
   "metadata": {},
   "source": [
    "| Operador | Significado |\n",
    "| :---: | :---: |\n",
    "| == | Igual a |\n",
    "| != | Diferente |\n",
    "| < | Menor que |\n",
    "| > | Mayor que |\n",
    "| <= | Menor igual que |\n",
    "| >= | Mayor igual que |"
   ]
  },
  {
   "cell_type": "code",
   "execution_count": 29,
   "id": "b1edbabb",
   "metadata": {},
   "outputs": [
    {
     "name": "stdout",
     "output_type": "stream",
     "text": [
      "150 es igual a 250  ====>>  False\n"
     ]
    }
   ],
   "source": [
    "x = 150\n",
    "y = 250\n",
    "\n",
    "print(x, \"es igual a\",y, \" ====>> \", x == y)"
   ]
  },
  {
   "cell_type": "code",
   "execution_count": 30,
   "id": "b3661624",
   "metadata": {},
   "outputs": [
    {
     "name": "stdout",
     "output_type": "stream",
     "text": [
      "400 es igual a 400  ====>>  True\n"
     ]
    }
   ],
   "source": [
    "x = 400\n",
    "y = 400\n",
    "\n",
    "print(x, \"es igual a\",y, \" ====>> \", x == y)   "
   ]
  },
  {
   "cell_type": "code",
   "execution_count": 31,
   "id": "793b6f56",
   "metadata": {},
   "outputs": [
    {
     "name": "stdout",
     "output_type": "stream",
     "text": [
      "1 < 8 = True\n",
      "2 > 9 = False\n",
      "10 ==20 = False\n",
      "escuela == casa = False\n",
      "Python != Java = True\n"
     ]
    }
   ],
   "source": [
    "print(\"1 < 8 =\", 1<8)   #Menor que\n",
    "print(\"2 > 9 =\", 2>=9)   #Mayor que\n",
    "print(\"10 ==20 =\", 10 ==20)   #Igual que\n",
    "print(\"escuela == casa =\", \"escuela\" == \"casa\")   #Igual a\n",
    "print(\"Python != Java =\", \"Python\" != \"Java\")   #Diferente"
   ]
  },
  {
   "cell_type": "markdown",
   "id": "b59ed97b",
   "metadata": {},
   "source": [
    "### Comando if ‑ Condicional Simple"
   ]
  },
  {
   "cell_type": "markdown",
   "id": "b6643508",
   "metadata": {},
   "source": [
    "Ejecuta la(s) sentencia(s) solo \"Si\" la **condición** es verdad"
   ]
  },
  {
   "cell_type": "code",
   "execution_count": 32,
   "id": "62443253",
   "metadata": {},
   "outputs": [
    {
     "name": "stdout",
     "output_type": "stream",
     "text": [
      "El número  60 es valido\n",
      "El cuadrado del número  60 es : 3600\n"
     ]
    }
   ],
   "source": [
    "x = 60\n",
    "\n",
    "#Comando Simple\n",
    "if x > 0:            #solo ingresa a las sentencias si el número es POSITIVO\n",
    "    print(\"El número \",x, \"es valido\")\n",
    "    print(\"El cuadrado del número \",x, \"es :\",x*x)\n",
    "    "
   ]
  },
  {
   "cell_type": "markdown",
   "id": "c295cb98",
   "metadata": {},
   "source": [
    "### Comando if ‑ else ‑ Condicional"
   ]
  },
  {
   "cell_type": "markdown",
   "id": "609b67a8",
   "metadata": {},
   "source": [
    "Ejecuta **la(s) sentencia(s)** solo \"Si\" la condición es verdad; \"SiNo\" ejecuta sentencias despues de\n",
    "**\"Else\"**."
   ]
  },
  {
   "cell_type": "code",
   "execution_count": 33,
   "id": "faa89103",
   "metadata": {},
   "outputs": [
    {
     "name": "stdout",
     "output_type": "stream",
     "text": [
      "El número MAYOR es: 40\n"
     ]
    }
   ],
   "source": [
    "#Inicializamos variables\n",
    "n = 40\n",
    "m = 30\n",
    "\n",
    "#Condición para saber cual es mayor\n",
    "if n > m:\n",
    "    print(\"El número MAYOR es: \"+str(n))\n",
    "else:\n",
    "    print(\"El número MAYOR es: \"+str(m))"
   ]
  },
  {
   "cell_type": "code",
   "execution_count": 34,
   "id": "0810ef7e",
   "metadata": {},
   "outputs": [
    {
     "name": "stdout",
     "output_type": "stream",
     "text": [
      "El número MAYOR es: 50\n"
     ]
    }
   ],
   "source": [
    "#Inicializamos variables\n",
    "n = 20\n",
    "m = 50\n",
    "\n",
    "#Condición para saber cual es mayor\n",
    "if n > m:\n",
    "    print(\"El número MAYOR es: \"+str(n))\n",
    "else:\n",
    "    print(\"El número MAYOR es: \"+str(m))"
   ]
  },
  {
   "cell_type": "markdown",
   "id": "f39fa59e",
   "metadata": {},
   "source": [
    "### Comando if ‑ else ‑ Condicional anidado"
   ]
  },
  {
   "cell_type": "code",
   "execution_count": 35,
   "id": "e83bef96",
   "metadata": {},
   "outputs": [
    {
     "name": "stdout",
     "output_type": "stream",
     "text": [
      "Ingrese el primer número: 45\n",
      "Ingrese el segundo número: 66\n",
      "Ingrese el tercer número: 87\n",
      "El número MAYOR es: 87\n",
      "El número MAYOR es: 87\n"
     ]
    }
   ],
   "source": [
    "#Ingresamos los números#\n",
    "a = int(input(\"Ingrese el primer número: \"))\n",
    "b = int(input(\"Ingrese el segundo número: \"))\n",
    "c = int(input(\"Ingrese el tercer número: \"))\n",
    "\n",
    "#Con 03 Condiciones comparamos para hallar el número Mayor de los 3 números Ingresados\n",
    "if a > b:\n",
    "    if a > c:\n",
    "        n = a\n",
    "    else:\n",
    "        n = c\n",
    "else: \n",
    "    if b > c:\n",
    "        n = b\n",
    "    else:\n",
    "        n = c\n",
    "\n",
    "        \n",
    "\n",
    "print(\"El número MAYOR es: \"+str(n))\n",
    "print(\"El número MAYOR es: {}\".format(n))"
   ]
  },
  {
   "cell_type": "code",
   "execution_count": 36,
   "id": "d98d3106",
   "metadata": {},
   "outputs": [
    {
     "name": "stdout",
     "output_type": "stream",
     "text": [
      "Ingrese el primer número: 20\n",
      "Ingrese el segundo número: 30\n",
      "Ingrese el tercer número: 40\n",
      "El número MAYOR es: 40\n",
      "El número MAYOR es: 40\n"
     ]
    }
   ],
   "source": [
    "#Ingresamos los números#\n",
    "a = int(input(\"Ingrese el primer número: \"))\n",
    "b = int(input(\"Ingrese el segundo número: \"))\n",
    "c = int(input(\"Ingrese el tercer número: \"))\n",
    "\n",
    "#Con 03 Condiciones comparamos para hallar el número Mayor de los 3 números Ingresados\n",
    "if a > b:\n",
    "    if a > c:\n",
    "        n = a\n",
    "    else:\n",
    "        n = c\n",
    "else: \n",
    "    if b > c:\n",
    "        n = b\n",
    "    else:\n",
    "        n = c\n",
    "\n",
    "        \n",
    "\n",
    "print(\"El número MAYOR es: \"+str(n))\n",
    "print(\"El número MAYOR es: {}\".format(n))"
   ]
  },
  {
   "cell_type": "code",
   "execution_count": 37,
   "id": "52199d4a",
   "metadata": {},
   "outputs": [
    {
     "name": "stdout",
     "output_type": "stream",
     "text": [
      "Ingrese el primer número: -56\n",
      "Ingrese el segundo número: 34\n",
      "Ingrese el tercer número: 100\n",
      "El número MAYOR es: 100\n",
      "El número MAYOR es: 100\n"
     ]
    }
   ],
   "source": [
    "#Ingresamos los números#\n",
    "a = int(input(\"Ingrese el primer número: \"))\n",
    "b = int(input(\"Ingrese el segundo número: \"))\n",
    "c = int(input(\"Ingrese el tercer número: \"))\n",
    "\n",
    "#Con 03 Condiciones comparamos para hallar el número Mayor de los 3 números Ingresados\n",
    "if a > b:\n",
    "    if a > c:\n",
    "        n = a\n",
    "    else:\n",
    "        n = c\n",
    "else: \n",
    "    if b > c:\n",
    "        n = b\n",
    "    else:\n",
    "        n = c\n",
    "\n",
    "        \n",
    "\n",
    "print(\"El número MAYOR es: \"+str(n))\n",
    "print(\"El número MAYOR es: {}\".format(n))"
   ]
  },
  {
   "cell_type": "markdown",
   "id": "168398fe",
   "metadata": {},
   "source": [
    "### Comando if ‑ elif ‑ else ‑ Condicional encadenado"
   ]
  },
  {
   "cell_type": "code",
   "execution_count": 39,
   "id": "a1ae566c",
   "metadata": {},
   "outputs": [
    {
     "name": "stdout",
     "output_type": "stream",
     "text": [
      "Ingrese su nombre: María del Pilar\n",
      "María Del Pilar contiene la vocal a\n"
     ]
    }
   ],
   "source": [
    "nombre = input('Ingrese su nombre: ')\n",
    "\n",
    "if \"a\" in nombre:\n",
    "    print(nombre.title()+ ' contiene la vocal a')\n",
    "elif \"e\" in nombre:\n",
    "    print(nombre.title()+ ' contiene la vocal e')\n",
    "elif \"i\" in nombre:\n",
    "    print(nombre.title()+ ' contiene la vocal i')\n",
    "elif \"o\" in nombre:\n",
    "    print(nombre.title()+ ' contiene la vocal o')\n",
    "elif \"u\" in nombre:\n",
    "    print(nombre.title()+ ' contiene la vocal u')\n",
    "else:\n",
    "    print(\"¡Que nombre tan extraño!!!!!!\")"
   ]
  },
  {
   "cell_type": "code",
   "execution_count": 42,
   "id": "1e302fe1",
   "metadata": {},
   "outputs": [
    {
     "name": "stdout",
     "output_type": "stream",
     "text": [
      "Ingrese su nombre: 49876\n",
      "¡Que nombre tan extraño!!!!!! O:\n"
     ]
    }
   ],
   "source": [
    "nombre = input('Ingrese su nombre: ')\n",
    "\n",
    "if \"a\" in nombre:\n",
    "    print(nombre.title()+ ' contiene la vocal a')\n",
    "elif \"e\" in nombre:\n",
    "    print(nombre.title()+ ' contiene la vocal e')\n",
    "elif \"i\" in nombre:\n",
    "    print(nombre.title()+ ' contiene la vocal i')\n",
    "elif \"o\" in nombre:\n",
    "    print(nombre.title()+ ' contiene la vocal o')\n",
    "elif \"u\" in nombre:\n",
    "    print(nombre.title()+ ' contiene la vocal u')\n",
    "else:\n",
    "    print(\"¡Que nombre tan extraño!!!!!! O:\")"
   ]
  },
  {
   "cell_type": "code",
   "execution_count": 43,
   "id": "be1054bf",
   "metadata": {},
   "outputs": [
    {
     "name": "stdout",
     "output_type": "stream",
     "text": [
      "Ingrese su nombre: dgnr\n",
      "¡Que nombre tan extraño!!!!!! O:\n"
     ]
    }
   ],
   "source": [
    "nombre = input('Ingrese su nombre: ')\n",
    "\n",
    "if \"a\" in nombre:\n",
    "    print(nombre.title()+ ' contiene la vocal a')\n",
    "elif \"e\" in nombre:\n",
    "    print(nombre.title()+ ' contiene la vocal e')\n",
    "elif \"i\" in nombre:\n",
    "    print(nombre.title()+ ' contiene la vocal i')\n",
    "elif \"o\" in nombre:\n",
    "    print(nombre.title()+ ' contiene la vocal o')\n",
    "elif \"u\" in nombre:\n",
    "    print(nombre.title()+ ' contiene la vocal u')\n",
    "else:\n",
    "    print(\"¡Que nombre tan extraño!!!!!! O:\")"
   ]
  },
  {
   "cell_type": "markdown",
   "id": "6facdfda",
   "metadata": {},
   "source": [
    "# EJEMPLOS"
   ]
  },
  {
   "cell_type": "markdown",
   "id": "8f50c0fa",
   "metadata": {},
   "source": [
    "## LISTAS"
   ]
  },
  {
   "cell_type": "markdown",
   "id": "86b272fc",
   "metadata": {},
   "source": [
    "### Operadores con varias listas :"
   ]
  },
  {
   "cell_type": "code",
   "execution_count": 44,
   "id": "344386f0",
   "metadata": {},
   "outputs": [
    {
     "name": "stdout",
     "output_type": "stream",
     "text": [
      "[10, 20, 30, 40, 50, 60]\n"
     ]
    }
   ],
   "source": [
    "lista1 = [10,20,30]\n",
    "lista2 = [40,50,60]\n",
    "\n",
    "print(lista1 + lista2)"
   ]
  },
  {
   "cell_type": "markdown",
   "id": "93a88e62",
   "metadata": {},
   "source": [
    "### Mejorando la impresión de varias listas :"
   ]
  },
  {
   "cell_type": "code",
   "execution_count": 49,
   "id": "5a6298c5",
   "metadata": {},
   "outputs": [
    {
     "name": "stdout",
     "output_type": "stream",
     "text": [
      "Mi auto es: Toyota\n",
      "Mi auto Toyota tiene 2 puertas\n"
     ]
    }
   ],
   "source": [
    "listaA = ['audi','toyota','mazda']\n",
    "puerta = [2,4]\n",
    "\n",
    "print(\"Mi auto es: \" + listaA[1].title())\n",
    "print(f\"Mi auto {listaA[-2].title()} tiene {puerta[-2]} puertas\")   "
   ]
  },
  {
   "cell_type": "code",
   "execution_count": 50,
   "id": "a4acb29d",
   "metadata": {},
   "outputs": [
    {
     "name": "stdout",
     "output_type": "stream",
     "text": [
      "Mi auto es: Toyota\n",
      "Mi auto Mazda tiene 4 puertas\n"
     ]
    }
   ],
   "source": [
    "listaA = ['audi','toyota','mazda']\n",
    "puerta = [2,4]\n",
    "\n",
    "print(\"Mi auto es: \" + listaA[1].title())\n",
    "print(f\"Mi auto {listaA[-1].title()} tiene {puerta[-1]} puertas\")   "
   ]
  },
  {
   "cell_type": "markdown",
   "id": "1d9a08c5",
   "metadata": {},
   "source": [
    "### Operadores matemáticos de una lista :"
   ]
  },
  {
   "cell_type": "code",
   "execution_count": 51,
   "id": "818a9ec5",
   "metadata": {},
   "outputs": [
    {
     "name": "stdout",
     "output_type": "stream",
     "text": [
      "7600\n",
      "7000\n",
      "-200\n"
     ]
    }
   ],
   "source": [
    "lista3 = [100,500,200,7000,-200]\n",
    "\n",
    "print(sum(lista3))\n",
    "print(max(lista3))\n",
    "print(min(lista3))"
   ]
  },
  {
   "cell_type": "code",
   "execution_count": 52,
   "id": "dbdc864b",
   "metadata": {},
   "outputs": [
    {
     "name": "stdout",
     "output_type": "stream",
     "text": [
      "[0, 1, 2, 3, 4, 5, 6]\n",
      "[1, 2, 3, 4, 5, 6, 7, 8, 9]\n",
      "[-10, -9, -8, -7, -6, -5, -4, -3, -2, -1, 0, 1]\n",
      "[200, 180, 160, 140, 120]\n",
      "[]\n"
     ]
    }
   ],
   "source": [
    "lista1 = list(range(7))\n",
    "lista2 = list(range(1,10))\n",
    "lista3 = list(range(-10,2))\n",
    "lista4 = list(range(200,100,-20))\n",
    "lista5 = list(range(200,100,20))\n",
    "\n",
    "\n",
    "print(lista1)\n",
    "print(lista2)\n",
    "print(lista3)\n",
    "print(lista4)\n",
    "print(lista5)"
   ]
  },
  {
   "cell_type": "markdown",
   "id": "1c6d614e",
   "metadata": {},
   "source": [
    "### Error comun en una lista :"
   ]
  },
  {
   "cell_type": "code",
   "execution_count": 1,
   "id": "fb38bd45",
   "metadata": {},
   "outputs": [
    {
     "name": "stdout",
     "output_type": "stream",
     "text": [
      "LAMBORGHINI\n"
     ]
    }
   ],
   "source": [
    "autos = [\"mazda\", \"audi\", \"toyota\", \"subaru\", \"bmw\", \"lamborghini\"]\n",
    "\n",
    "print(autos[5].upper())"
   ]
  },
  {
   "cell_type": "code",
   "execution_count": 54,
   "id": "69787be7",
   "metadata": {},
   "outputs": [
    {
     "name": "stdout",
     "output_type": "stream",
     "text": [
      "BMW\n"
     ]
    }
   ],
   "source": [
    "autos = [\"mazda\", \"audi\", \"toyota\", \"subaru\", \"bmw\", \"lamborghini\"]\n",
    "print(autos[4].upper())"
   ]
  },
  {
   "cell_type": "markdown",
   "id": "5915adf0",
   "metadata": {},
   "source": [
    "## Condicionales"
   ]
  },
  {
   "cell_type": "markdown",
   "id": "1a1af9a3",
   "metadata": {},
   "source": [
    "## Hacer un programa que determine si un numero ingresado por pantalla es positivo o negativo"
   ]
  },
  {
   "cell_type": "code",
   "execution_count": 55,
   "id": "d9b41b73",
   "metadata": {},
   "outputs": [
    {
     "name": "stdout",
     "output_type": "stream",
     "text": [
      "Ingrese un número entero, positivo o negativo: -8\n",
      "\n",
      "El número: -8\n",
      "Es un número: negativo\n"
     ]
    }
   ],
   "source": [
    "#METODO 1 : Utilizando if Anidado\n",
    "\n",
    "x = int(input(\"Ingrese un número entero, positivo o negativo: \"))\n",
    "if x > 0:\n",
    "    y = \"positivo\"\n",
    "else:\n",
    "    if x < 0:\n",
    "        y = \"negativo\"\n",
    "    else:\n",
    "        if x == 0:\n",
    "            y = \"cero\"\n",
    "\n",
    "print(\"\\nEl número: {}\".format(x))\n",
    "print(\"Es un número: {}\".format(y))"
   ]
  },
  {
   "cell_type": "code",
   "execution_count": 57,
   "id": "2ce5ffcd",
   "metadata": {},
   "outputs": [
    {
     "name": "stdout",
     "output_type": "stream",
     "text": [
      "Ingrese un número entero, positivo o negativo: 7\n",
      "\n",
      "El número: 7\n",
      "Es un número: positivo\n"
     ]
    }
   ],
   "source": [
    "#METODO 1 : Utilizando if Anidado\n",
    "x = int(input(\"Ingrese un número entero, positivo o negativo: \"))\n",
    "if x > 0:\n",
    "    y = \"positivo\"\n",
    "else:\n",
    "    if x < 0:\n",
    "        y = \"negativo\"\n",
    "    else:\n",
    "        if x == 0:\n",
    "            y = \"cero\"\n",
    "\n",
    "print(\"\\nEl número: {}\".format(x))\n",
    "print(\"Es un número: {}\".format(y))"
   ]
  },
  {
   "cell_type": "code",
   "execution_count": 58,
   "id": "30cc0fc4",
   "metadata": {},
   "outputs": [
    {
     "name": "stdout",
     "output_type": "stream",
     "text": [
      "Ingrese un número entero, positivo o negativo: 0\n",
      "\n",
      "El número: 0\n",
      "Es un número: cero\n"
     ]
    }
   ],
   "source": [
    "#METODO 1 : Utilizando if Anidado\n",
    "\n",
    "x = int(input(\"Ingrese un número entero, positivo o negativo: \"))\n",
    "if x > 0:\n",
    "    y = \"positivo\"\n",
    "else:\n",
    "    if x < 0:\n",
    "        y = \"negativo\"\n",
    "    else:\n",
    "        if x == 0:\n",
    "            y = \"cero\"\n",
    "\n",
    "print(\"\\nEl número: {}\".format(x))\n",
    "print(\"Es un número: {}\".format(y))"
   ]
  },
  {
   "cell_type": "code",
   "execution_count": 59,
   "id": "52a6d48f",
   "metadata": {},
   "outputs": [
    {
     "name": "stdout",
     "output_type": "stream",
     "text": [
      "Ingrese un número entero, positivo o negativo: 76\n",
      "\n",
      "El número: 76\n",
      "Es un número: positivo\n"
     ]
    }
   ],
   "source": [
    "#METODO 2 : Utilizando elif\n",
    "#**************************** FUNCIÓN detecta POSITIVOS NEGATIVOS ***************************\n",
    "def det(xx):\n",
    "    if xx < 0:\n",
    "        p = \"negativo\"\n",
    "    elif xx > 0:\n",
    "        p = \"positivo\"\n",
    "    else: \n",
    "        p = \"cero\"\n",
    "        print(p)\n",
    "    return p\n",
    "\n",
    "#Ingresamos NÚMERO *************************************\n",
    "num = int(input(\"Ingrese un número entero, positivo o negativo: \"))\n",
    "#LLAMAMOS A LA FUNCIÓN *********************************\n",
    "#FUNCION devuelve un resultado capturado en variable \"resp\"\n",
    "resp = det(num)\n",
    "\n",
    "#Imprimo Resultado\n",
    "print(\"\\nEl número: {}\".format(num))\n",
    "print(\"Es un número: {}\".format(resp))"
   ]
  },
  {
   "cell_type": "code",
   "execution_count": 60,
   "id": "e471e742",
   "metadata": {},
   "outputs": [
    {
     "name": "stdout",
     "output_type": "stream",
     "text": [
      "Ingrese un número entero, positivo o negativo: -57\n",
      "\n",
      "El número: -57\n",
      "Es un número: negativo\n"
     ]
    }
   ],
   "source": [
    "#METODO 2 : Utilizando elif\n",
    "#**************************** FUNCIÓN detecta POSITIVOS NEGATIVOS ***************************\n",
    "def det(xx):\n",
    "    if xx < 0:\n",
    "        p = \"negativo\"\n",
    "    elif xx > 0:\n",
    "        p = \"positivo\"\n",
    "    else: \n",
    "        p = \"cero\"\n",
    "        print(p)\n",
    "    return p\n",
    "\n",
    "#Ingresamos NÚMERO *************************************\n",
    "num = int(input(\"Ingrese un número entero, positivo o negativo: \"))\n",
    "#LLAMAMOS A LA FUNCIÓN *********************************\n",
    "#FUNCION devuelve un resultado capturado en variable \"resp\"\n",
    "resp = det(num)\n",
    "\n",
    "#Imprimo Resultado\n",
    "print(\"\\nEl número: {}\".format(num))\n",
    "print(\"Es un número: {}\".format(resp))"
   ]
  },
  {
   "cell_type": "code",
   "execution_count": 61,
   "id": "d27643aa",
   "metadata": {},
   "outputs": [
    {
     "name": "stdout",
     "output_type": "stream",
     "text": [
      "Ingrese un número entero, positivo o negativo: 0\n",
      "cero\n",
      "\n",
      "El número: 0\n",
      "Es un número: cero\n"
     ]
    }
   ],
   "source": [
    "#METODO 2 : Utilizando elif\n",
    "#**************************** FUNCIÓN detecta POSITIVOS NEGATIVOS ***************************\n",
    "def det(xx):\n",
    "    if xx < 0:\n",
    "        p = \"negativo\"\n",
    "    elif xx > 0:\n",
    "        p = \"positivo\"\n",
    "    else: \n",
    "        p = \"cero\"\n",
    "        print(p)\n",
    "    return p\n",
    "\n",
    "#Ingresamos NÚMERO *************************************\n",
    "num = int(input(\"Ingrese un número entero, positivo o negativo: \"))\n",
    "#LLAMAMOS A LA FUNCIÓN *********************************\n",
    "#FUNCION devuelve un resultado capturado en variable \"resp\"\n",
    "resp = det(num)\n",
    "\n",
    "#Imprimo Resultado\n",
    "print(\"\\nEl número: {}\".format(num))\n",
    "print(\"Es un número: {}\".format(resp))"
   ]
  },
  {
   "cell_type": "markdown",
   "id": "d750a0cf",
   "metadata": {},
   "source": [
    "## Hacer un programa que pueda ingresar radio del Circulo y calcule: Perímetro, Área y Diámetro"
   ]
  },
  {
   "cell_type": "code",
   "execution_count": 62,
   "id": "cfa9f74e",
   "metadata": {},
   "outputs": [
    {
     "name": "stdout",
     "output_type": "stream",
     "text": [
      "Ingrese el radio de un círculo: 15\n",
      "Seleccione una opción: \n",
      "a) Calcular el diámetro.\n",
      "b) Calcular el perímetro.\n",
      "c) Calcular el área.\n",
      "Digita a, b, o c y presiona enter: c\n",
      "\n",
      "El área del Círculo es 706.8583470577034.\n"
     ]
    }
   ],
   "source": [
    "#METODO 1: Utilizando if Anidado\n",
    "from math import pi\n",
    "\n",
    "radio = float(input(\"Ingrese el radio de un círculo: \"))\n",
    "\n",
    "#MENÚ\n",
    "print(\"Seleccione una opción: \")\n",
    "print(\"a) Calcular el diámetro.\")\n",
    "print(\"b) Calcular el perímetro.\")\n",
    "print(\"c) Calcular el área.\")\n",
    "opcion = input (\"Digita a, b, o c y presiona enter: \")\n",
    "\n",
    "if opcion == \"a\":\n",
    "    diámetro = 2*radio\n",
    "    print(\"\\nEl diámetro del Círculo es {0}.\".format(diámetro))\n",
    "else:\n",
    "    if opcion == \"b\":\n",
    "        perímetro = 2 * pi * radio\n",
    "        print(\"\\nEl perímetro del Círculo es {0}.\".format(perímetro))\n",
    "    else:\n",
    "        if opcion == \"c\":\n",
    "            área = pi * radio ** 2\n",
    "            print(\"\\nEl área del Círculo es {0}.\".format(área))\n",
    "        else:\n",
    "            print(\"\\nSolo hay tres opciones: a, b, c.\")\n",
    "            print('Tu has tecleado \"{0}\".'.format(opcion))"
   ]
  },
  {
   "cell_type": "code",
   "execution_count": 63,
   "id": "091c3bbe",
   "metadata": {},
   "outputs": [
    {
     "name": "stdout",
     "output_type": "stream",
     "text": [
      "Ingrese el radio de un círculo: 56\n",
      "Seleccione una opción: \n",
      "a) Calcular el diámetro.\n",
      "b) Calcular el perímetro.\n",
      "c) Calcular el área.\n",
      "Digita a, b, o c y presiona enter: b\n",
      "\n",
      "El perímetro del Círculo es 351.85837720205683.\n"
     ]
    }
   ],
   "source": [
    "#METODO 1: Utilizando if Anidado\n",
    "from math import pi\n",
    "\n",
    "radio = float(input(\"Ingrese el radio de un círculo: \"))\n",
    "\n",
    "#MENÚ\n",
    "print(\"Seleccione una opción: \")\n",
    "print(\"a) Calcular el diámetro.\")\n",
    "print(\"b) Calcular el perímetro.\")\n",
    "print(\"c) Calcular el área.\")\n",
    "opcion = input (\"Digita a, b, o c y presiona enter: \")\n",
    "\n",
    "if opcion == \"a\":\n",
    "    diámetro = 2*radio\n",
    "    print(\"\\nEl diámetro del Círculo es {0}.\".format(diámetro))\n",
    "else:\n",
    "    if opcion == \"b\":\n",
    "        perímetro = 2 * pi * radio\n",
    "        print(\"\\nEl perímetro del Círculo es {0}.\".format(perímetro))\n",
    "    else:\n",
    "        if opcion == \"c\":\n",
    "            área = pi * radio ** 2\n",
    "            print(\"\\nEl área del Círculo es {0}.\".format(área))\n",
    "        else:\n",
    "            print(\"\\nSolo hay tres opciones: a, b, c.\")\n",
    "            print('Tu has tecleado \"{0}\".'.format(opcion))"
   ]
  },
  {
   "cell_type": "code",
   "execution_count": 64,
   "id": "79974eca",
   "metadata": {},
   "outputs": [
    {
     "name": "stdout",
     "output_type": "stream",
     "text": [
      "Ingrese el radio de un círculo: 60\n",
      "Seleccione una opción: \n",
      "a) Calcular el diámetro.\n",
      "b) Calcular el perímetro.\n",
      "c) Calcular el área.\n",
      "Digita a, b, o c y presiona enter: a\n",
      "\n",
      "El diámetro del Círculo es 120.0.\n"
     ]
    }
   ],
   "source": [
    "#METODO 1: Utilizando if Anidado\n",
    "from math import pi\n",
    "\n",
    "radio = float(input(\"Ingrese el radio de un círculo: \"))\n",
    "\n",
    "#MENÚ\n",
    "print(\"Seleccione una opción: \")\n",
    "print(\"a) Calcular el diámetro.\")\n",
    "print(\"b) Calcular el perímetro.\")\n",
    "print(\"c) Calcular el área.\")\n",
    "opcion = input (\"Digita a, b, o c y presiona enter: \")\n",
    "\n",
    "if opcion == \"a\":\n",
    "    diámetro = 2*radio\n",
    "    print(\"\\nEl diámetro del Círculo es {0}.\".format(diámetro))\n",
    "else:\n",
    "    if opcion == \"b\":\n",
    "        perímetro = 2 * pi * radio\n",
    "        print(\"\\nEl perímetro del Círculo es {0}.\".format(perímetro))\n",
    "    else:\n",
    "        if opcion == \"c\":\n",
    "            área = pi * radio ** 2\n",
    "            print(\"\\nEl área del Círculo es {0}.\".format(área))\n",
    "        else:\n",
    "            print(\"\\nSolo hay tres opciones: a, b, c.\")\n",
    "            print('Tu has tecleado \"{0}\".'.format(opcion))"
   ]
  },
  {
   "cell_type": "code",
   "execution_count": 65,
   "id": "9174ce1f",
   "metadata": {},
   "outputs": [
    {
     "name": "stdout",
     "output_type": "stream",
     "text": [
      "Ingrese el radio de un círculo: 34\n",
      "Seleccione una opción: \n",
      "a) Calcular el diámetro.\n",
      "b) Calcular el perímetro.\n",
      "c) Calcular el área.\n",
      "Digita a, b, o c y presiona enter: a\n",
      "El diámetro del Círculo es 68.0.\n"
     ]
    }
   ],
   "source": [
    "#METODO 2 : Utilizando elif\n",
    "from math import pi\n",
    "radio = float(input(\"Ingrese el radio de un círculo: \"))\n",
    "#Menú\n",
    "print(\"Seleccione una opción: \")\n",
    "print(\"a) Calcular el diámetro.\")\n",
    "print(\"b) Calcular el perímetro.\")\n",
    "print(\"c) Calcular el área.\")\n",
    "opcion = input (\"Digita a, b, o c y presiona enter: \")\n",
    "\n",
    "if opcion == \"a\":\n",
    "    diametro = 2 * radio\n",
    "    print(\"El diámetro del Círculo es {0}.\".format(diametro))\n",
    "elif opcion == \"b\":\n",
    "    perimetro = 2 * pi * radio\n",
    "    print(\"El perímetro del Círculo es {0}.\".format(perimetro))\n",
    "elif opcion == \"c\":\n",
    "    area = pi * radio ** 2\n",
    "    print(\"El área del Círculo es {0}.\".format(area))\n",
    "else:\n",
    "    print(\"Solo hay tres opciones: a, b, c.\")\n",
    "    print('Tu has tecleado \"{0}\".'.format(opcion))"
   ]
  },
  {
   "cell_type": "code",
   "execution_count": 66,
   "id": "4eac30e6",
   "metadata": {},
   "outputs": [
    {
     "name": "stdout",
     "output_type": "stream",
     "text": [
      "Ingrese el radio de un círculo: 46\n",
      "Seleccione una opción: \n",
      "a) Calcular el diámetro.\n",
      "b) Calcular el perímetro.\n",
      "c) Calcular el área.\n",
      "Digita a, b, o c y presiona enter: b\n",
      "El perímetro del Círculo es 289.02652413026095.\n"
     ]
    }
   ],
   "source": [
    "#METODO 2 : Utilizando elif\n",
    "from math import pi\n",
    "radio = float(input(\"Ingrese el radio de un círculo: \"))\n",
    "#Menú\n",
    "print(\"Seleccione una opción: \")\n",
    "print(\"a) Calcular el diámetro.\")\n",
    "print(\"b) Calcular el perímetro.\")\n",
    "print(\"c) Calcular el área.\")\n",
    "opcion = input (\"Digita a, b, o c y presiona enter: \")\n",
    "\n",
    "if opcion == \"a\":\n",
    "    diametro = 2 * radio\n",
    "    print(\"El diámetro del Círculo es {0}.\".format(diametro))\n",
    "elif opcion == \"b\":\n",
    "    perimetro = 2 * pi * radio\n",
    "    print(\"El perímetro del Círculo es {0}.\".format(perimetro))\n",
    "elif opcion == \"c\":\n",
    "    area = pi * radio ** 2\n",
    "    print(\"El área del Círculo es {0}.\".format(area))\n",
    "else:\n",
    "    print(\"Solo hay tres opciones: a, b, c.\")\n",
    "    print('Tu has tecleado \"{0}\".'.format(opcion))"
   ]
  },
  {
   "cell_type": "code",
   "execution_count": 67,
   "id": "b555b9ad",
   "metadata": {},
   "outputs": [
    {
     "name": "stdout",
     "output_type": "stream",
     "text": [
      "Ingrese el radio de un círculo: 50\n",
      "Seleccione una opción: \n",
      "a) Calcular el diámetro.\n",
      "b) Calcular el perímetro.\n",
      "c) Calcular el área.\n",
      "Digita a, b, o c y presiona enter: c\n",
      "El área del Círculo es 7853.981633974483.\n"
     ]
    }
   ],
   "source": [
    "#METODO 2 : Utilizando elif\n",
    "from math import pi\n",
    "radio = float(input(\"Ingrese el radio de un círculo: \"))\n",
    "#Menú\n",
    "print(\"Seleccione una opción: \")\n",
    "print(\"a) Calcular el diámetro.\")\n",
    "print(\"b) Calcular el perímetro.\")\n",
    "print(\"c) Calcular el área.\")\n",
    "opcion = input (\"Digita a, b, o c y presiona enter: \")\n",
    "\n",
    "if opcion == \"a\":\n",
    "    diametro = 2 * radio\n",
    "    print(\"El diámetro del Círculo es {0}.\".format(diametro))\n",
    "elif opcion == \"b\":\n",
    "    perimetro = 2 * pi * radio\n",
    "    print(\"El perímetro del Círculo es {0}.\".format(perimetro))\n",
    "elif opcion == \"c\":\n",
    "    area = pi * radio ** 2\n",
    "    print(\"El área del Círculo es {0}.\".format(area))\n",
    "else:\n",
    "    print(\"Solo hay tres opciones: a, b, c.\")\n",
    "    print('Tu has tecleado \"{0}\".'.format(opcion))"
   ]
  },
  {
   "cell_type": "markdown",
   "id": "bcd490d6",
   "metadata": {},
   "source": [
    "## Hacer un programa que verifique si se ha comprado carne en la lista del mercado para hacer Parrillada"
   ]
  },
  {
   "cell_type": "code",
   "execution_count": 68,
   "id": "cdf4c797",
   "metadata": {},
   "outputs": [
    {
     "name": "stdout",
     "output_type": "stream",
     "text": [
      "Hoy comemos rica Parrilla!!!\n"
     ]
    }
   ],
   "source": [
    "# Lista de Alimentos\n",
    "\n",
    "alimento = [\"arroz\", \"papas\", \"camote\", \"leche\", \"carne\", \"cebolla\", \"tomate\", \"lechuga\"]\n",
    "\n",
    "if \"carne\" in alimento:\n",
    "    print(\"Hoy comemos rica Parrilla!!!\")\n",
    "else:\n",
    "    print(\"Hoy comemos Verduras :'c \")"
   ]
  },
  {
   "cell_type": "code",
   "execution_count": 70,
   "id": "9d6b42b6",
   "metadata": {},
   "outputs": [
    {
     "name": "stdout",
     "output_type": "stream",
     "text": [
      "Hoy comemos Verduras :'c\n"
     ]
    }
   ],
   "source": [
    "# Lista de Alimentos\n",
    "\n",
    "alimento = [\"arroz\", \"papas\", \"camote\", \"leche\", \"carne\", \"cebolla\", \"tomate\", \"lechuga\"]\n",
    "\n",
    "if \"tallarín\" in alimento:\n",
    "    print(\"Hoy comemos rica Parrilla!!!\")\n",
    "else:\n",
    "    print(\"Hoy comemos Verduras :'c\")"
   ]
  },
  {
   "cell_type": "markdown",
   "id": "5e29bfde",
   "metadata": {},
   "source": [
    "## Hacer un programa que verifique en una jugeria si tienen la fruta que deseas y te prepare un jugo"
   ]
  },
  {
   "cell_type": "code",
   "execution_count": 71,
   "id": "277e3df2",
   "metadata": {},
   "outputs": [
    {
     "name": "stdout",
     "output_type": "stream",
     "text": [
      "Ingresa la fruta que deseas comer hoy: pera\n",
      "\n",
      "Si tenemos PERA !!!, te prepararemos un Jugo\n",
      "\n",
      "Gracias por tu Preferencia !!!, Vuelve muy Pronto\n"
     ]
    }
   ],
   "source": [
    "#*******FUNCION JUGERÍA**************************************\n",
    "\n",
    "def preparar(fruit):\n",
    "    if fruit in fruta:\n",
    "        print(f\"\\nSi tenemos {antojo.upper()} !!!, te prepararemos un Jugo\")\n",
    "    else:\n",
    "        print(f\"\\nHoy no tenemos {antojo.upper()}, pero regresa Mañana\")\n",
    "    \n",
    "    \n",
    "#*******Lista de Frutas ***************************************************\n",
    "\n",
    "fruta = [\"platano\", \"manzana\", \"pera\", \"naranja\", \"mandarina\", \"uva\"]\n",
    "antojo = input(\"Ingresa la fruta que deseas comer hoy: \")\n",
    "preparar(antojo)\n",
    "\n",
    "print(\"\\nGracias por tu Preferencia !!!, Vuelve muy Pronto\")\n"
   ]
  },
  {
   "cell_type": "code",
   "execution_count": 72,
   "id": "ff9b212d",
   "metadata": {},
   "outputs": [
    {
     "name": "stdout",
     "output_type": "stream",
     "text": [
      "Ingresa la fruta que deseas comer hoy: papaya\n",
      "\n",
      "Hoy no tenemos PAPAYA, pero regresa Mañana\n",
      "\n",
      "Gracias por tu Preferencia !!!, Vuelve muy Pronto\n"
     ]
    }
   ],
   "source": [
    "#*******FUNCION JUGERÍA**************************************\n",
    "\n",
    "def preparar(fruit):\n",
    "    if fruit in fruta:\n",
    "        print(f\"\\nSi tenemos {antojo.upper()} !!!, te prepararemos un Jugo\")\n",
    "    else:\n",
    "        print(f\"\\nHoy no tenemos {antojo.upper()}, pero regresa Mañana\")\n",
    "    \n",
    "    \n",
    "#*******Lista de Frutas ***************************************************\n",
    "\n",
    "fruta = [\"platano\", \"manzana\", \"pera\", \"naranja\", \"mandarina\", \"uva\"]\n",
    "antojo = input(\"Ingresa la fruta que deseas comer hoy: \")\n",
    "preparar(antojo)\n",
    "\n",
    "print(\"\\nGracias por tu Preferencia !!!, Vuelve muy Pronto\")"
   ]
  },
  {
   "cell_type": "markdown",
   "id": "db9330e2",
   "metadata": {},
   "source": [
    "## Hacer un programa que verifique mayoria de edad"
   ]
  },
  {
   "cell_type": "code",
   "execution_count": 73,
   "id": "8a0321ee",
   "metadata": {},
   "outputs": [
    {
     "name": "stdout",
     "output_type": "stream",
     "text": [
      "Ingresa tu Nombre: Astrid\n",
      "Ingrese su edad: 17\n",
      "\n",
      "ASTRID es Menor de Edad con 17 años de edad\n"
     ]
    }
   ],
   "source": [
    "#*************FUNCIÓN que detecte la mayoria de edad ************\n",
    "\n",
    "def mayoria(nom,xx):\n",
    "    if xx >= 18:\n",
    "        print(f\"\\n{nom.upper()} es Mayor de Edad con {xx} años de edad\")\n",
    "    else:\n",
    "        print(f\"\\n{nom.upper()} es Menor de Edad con {xx} años de edad\")\n",
    "        \n",
    "        \n",
    "#**************INGRESA DATOS************************************\n",
    "\n",
    "nombre = input(\"Ingresa tu Nombre: \")\n",
    "edad = int(input(\"Ingrese su edad: \"))\n",
    "\n",
    "mayoria(nombre, edad)"
   ]
  },
  {
   "cell_type": "code",
   "execution_count": 74,
   "id": "18981f9a",
   "metadata": {},
   "outputs": [
    {
     "name": "stdout",
     "output_type": "stream",
     "text": [
      "Ingresa tu Nombre: Jhiordy\n",
      "Ingrese su edad: 21\n",
      "\n",
      "JHIORDY es Mayor de Edad con 21 años de edad\n"
     ]
    }
   ],
   "source": [
    "#*************FUNCIÓN que detecte la mayoria de edad ************\n",
    "\n",
    "def mayoria(nom,xx):\n",
    "    if xx >= 18:\n",
    "        print(f\"\\n{nom.upper()} es Mayor de Edad con {xx} años de edad\")\n",
    "    else:\n",
    "        print(f\"\\n{nom.upper()} es Menor de Edad con {xx} años de edad\")\n",
    "        \n",
    "        \n",
    "#**************INGRESA DATOS************************************\n",
    "\n",
    "nombre = input(\"Ingresa tu Nombre: \")\n",
    "edad = int(input(\"Ingrese su edad: \"))\n",
    "\n",
    "mayoria(nombre, edad)"
   ]
  },
  {
   "cell_type": "code",
   "execution_count": 76,
   "id": "4aa3358e",
   "metadata": {},
   "outputs": [
    {
     "name": "stdout",
     "output_type": "stream",
     "text": [
      "Ingresa tu Nombre: Juan\n",
      "Ingrese su edad: 70\n",
      "\n",
      "JUAN es Mayor de Edad con 70 años de edad\n"
     ]
    }
   ],
   "source": [
    "#*************FUNCIÓN que detecte la mayoria de edad ************\n",
    "\n",
    "def mayoria(nom,xx):\n",
    "    if xx >= 18:\n",
    "        print(f\"\\n{nom.upper()} es Mayor de Edad con {xx} años de edad\")\n",
    "    else:\n",
    "        print(f\"\\n{nom.upper()} es Menor de Edad con {xx} años de edad\")\n",
    "        \n",
    "        \n",
    "#**************INGRESA DATOS************************************\n",
    "\n",
    "nombre = input(\"Ingresa tu Nombre: \")\n",
    "edad = int(input(\"Ingrese su edad: \"))\n",
    "\n",
    "mayoria(nombre, edad)"
   ]
  },
  {
   "cell_type": "code",
   "execution_count": 77,
   "id": "7d2d77ca",
   "metadata": {},
   "outputs": [
    {
     "name": "stdout",
     "output_type": "stream",
     "text": [
      "Ingresa tu Nombre: Adrian\n",
      "Ingrese su edad: 60\n",
      "\n",
      "ADRIAN es Mayor de Edad con 60 años de edad\n"
     ]
    }
   ],
   "source": [
    "#*************FUNCIÓN que detecte la mayoria de edad ************\n",
    "\n",
    "def mayoria(nom,xx):\n",
    "    if xx >= 18:\n",
    "        print(f\"\\n{nom.upper()} es Mayor de Edad con {xx} años de edad\")\n",
    "    else:\n",
    "        print(f\"\\n{nom.upper()} es Menor de Edad con {xx} años de edad\")\n",
    "        \n",
    "        \n",
    "#**************INGRESA DATOS************************************\n",
    "\n",
    "nombre = input(\"Ingresa tu Nombre: \")\n",
    "edad = int(input(\"Ingrese su edad: \"))\n",
    "\n",
    "mayoria(nombre, edad)"
   ]
  },
  {
   "cell_type": "code",
   "execution_count": null,
   "id": "553ffebb",
   "metadata": {},
   "outputs": [],
   "source": []
  }
 ],
 "metadata": {
  "kernelspec": {
   "display_name": "Python 3 (ipykernel)",
   "language": "python",
   "name": "python3"
  },
  "language_info": {
   "codemirror_mode": {
    "name": "ipython",
    "version": 3
   },
   "file_extension": ".py",
   "mimetype": "text/x-python",
   "name": "python",
   "nbconvert_exporter": "python",
   "pygments_lexer": "ipython3",
   "version": "3.9.12"
  }
 },
 "nbformat": 4,
 "nbformat_minor": 5
}
