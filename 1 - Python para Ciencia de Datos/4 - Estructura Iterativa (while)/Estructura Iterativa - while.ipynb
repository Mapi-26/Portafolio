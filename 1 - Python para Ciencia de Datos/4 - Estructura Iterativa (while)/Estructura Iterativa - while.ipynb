{
 "cells": [
  {
   "cell_type": "markdown",
   "id": "5a46f732",
   "metadata": {},
   "source": [
    "#### <center> <h2>Estructura Iterativa ‑ \"while\"</h2> </center>"
   ]
  },
  {
   "cell_type": "markdown",
   "id": "3f315a57",
   "metadata": {},
   "source": [
    "![linea 1](https://user-images.githubusercontent.com/19308295/115926252-2b8a0c00-a448-11eb-9d9c-b43beaf0ff68.png)"
   ]
  },
  {
   "cell_type": "markdown",
   "id": "4961a665",
   "metadata": {},
   "source": [
    "## <font color=#33A5FF>****1. Estructura Iterativa - Bucle \"while\"****<tfont>"
   ]
  },
  {
   "cell_type": "markdown",
   "id": "86ebec6a",
   "metadata": {},
   "source": [
    "El Bucle while ejecutar repetidamente un bloque de código mientras se cumpla una condición."
   ]
  },
  {
   "cell_type": "code",
   "execution_count": null,
   "id": "70bc3c2a",
   "metadata": {},
   "outputs": [],
   "source": [
    "while <condición>:\n",
    "    <código>\n",
    "    <código>\n",
    "    ...................."
   ]
  },
  {
   "cell_type": "markdown",
   "id": "a6e4ce57",
   "metadata": {},
   "source": [
    "El bloque de líneas de código despues de los : de la sentencia while se ejecutarán siempre y cuando la condición de la sentencia while sea **True**."
   ]
  },
  {
   "cell_type": "markdown",
   "id": "2a1532ed",
   "metadata": {},
   "source": [
    "   <hr color=\"blue\" size=20>"
   ]
  },
  {
   "cell_type": "markdown",
   "id": "76799145",
   "metadata": {},
   "source": [
    "## Usamos while"
   ]
  },
  {
   "cell_type": "markdown",
   "id": "a88a08f4",
   "metadata": {},
   "source": [
    "### Hacer un programa que imprima la tabla del 3:"
   ]
  },
  {
   "cell_type": "code",
   "execution_count": 2,
   "id": "62319046",
   "metadata": {},
   "outputs": [
    {
     "name": "stdout",
     "output_type": "stream",
     "text": [
      "Tabla del número 3\n",
      "3 X 0 ==> 0\n",
      "3 X 1 ==> 3\n",
      "3 X 2 ==> 6\n",
      "3 X 3 ==> 9\n",
      "3 X 4 ==> 12\n",
      "3 X 5 ==> 15\n",
      "3 X 6 ==> 18\n",
      "3 X 7 ==> 21\n",
      "3 X 8 ==> 24\n",
      "3 X 9 ==> 27\n",
      "3 X 10 ==> 30\n",
      "Fin de la tabla\n"
     ]
    }
   ],
   "source": [
    "#'while' imprimiendo Tabla del número 3\n",
    "\n",
    "contador = 0\n",
    "print('Tabla del número 3')\n",
    "\n",
    "#bucle while\n",
    "\n",
    "while contador <= 10:\n",
    "    print(f'3 X {contador} ==> {contador * 3}')\n",
    "    contador += 1\n",
    "    \n",
    "print('Fin de la tabla')"
   ]
  },
  {
   "cell_type": "markdown",
   "id": "91b0acd6",
   "metadata": {},
   "source": [
    "##  ¡IMPORTANTE! ..."
   ]
  },
  {
   "cell_type": "markdown",
   "id": "19c448aa",
   "metadata": {},
   "source": [
    "Se debe evitar la ejecución de **bucles infinitos**"
   ]
  },
  {
   "cell_type": "markdown",
   "id": "c4b98dd6",
   "metadata": {},
   "source": [
    "   <hr color=\"blue\" size=20>"
   ]
  },
  {
   "cell_type": "markdown",
   "id": "8924c97d",
   "metadata": {},
   "source": [
    "### Hacer un programa que repita una frase las veces que se desee, use funciones"
   ]
  },
  {
   "cell_type": "code",
   "execution_count": 6,
   "id": "404cbc90",
   "metadata": {},
   "outputs": [
    {
     "name": "stdout",
     "output_type": "stream",
     "text": [
      "Ingrese el número de veces a repetir la frase: 3\n",
      "\n",
      "\n",
      "La amistad es un alma que habita en dos cuerpos, un corazón que habita en dos almas. Aristóteles\n",
      "La amistad es un alma que habita en dos cuerpos, un corazón que habita en dos almas. Aristóteles\n",
      "La amistad es un alma que habita en dos cuerpos, un corazón que habita en dos almas. Aristóteles\n"
     ]
    }
   ],
   "source": [
    "#frase a repetir\n",
    "\n",
    "frase = \"La amistad es un alma que habita en dos cuerpos, un corazón que habita en dos almas. Aristóteles\"\n",
    "\n",
    "#contador\n",
    "\n",
    "cont = 0\n",
    "\n",
    "#función recibe n veces\n",
    "\n",
    "def repetir(n,cont):\n",
    "    while cont < n:\n",
    "        print(frase)\n",
    "        cont += 1\n",
    "\n",
    "num = int(input('Ingrese el número de veces a repetir la frase: '))\n",
    "print('\\n')\n",
    "\n",
    "\n",
    "#llamar la función\n",
    "\n",
    "repetir(num,cont)"
   ]
  },
  {
   "cell_type": "code",
   "execution_count": 7,
   "id": "a673e7e7",
   "metadata": {},
   "outputs": [
    {
     "name": "stdout",
     "output_type": "stream",
     "text": [
      "Ingrese el número de veces a repetir la frase: 5\n",
      "\n",
      "\n",
      "El tiempo que se disfruta es el verdadero tiempo vivido. Jorge Bucay\n",
      "El tiempo que se disfruta es el verdadero tiempo vivido. Jorge Bucay\n",
      "El tiempo que se disfruta es el verdadero tiempo vivido. Jorge Bucay\n",
      "El tiempo que se disfruta es el verdadero tiempo vivido. Jorge Bucay\n",
      "El tiempo que se disfruta es el verdadero tiempo vivido. Jorge Bucay\n"
     ]
    }
   ],
   "source": [
    "#frase a repetir\n",
    "\n",
    "frase = \"El tiempo que se disfruta es el verdadero tiempo vivido. Jorge Bucay\"\n",
    "\n",
    "#contador\n",
    "\n",
    "cont = 0\n",
    "\n",
    "#función recibe n veces\n",
    "\n",
    "def repetir(n,cont):\n",
    "    while cont < n:\n",
    "        print(frase)\n",
    "        cont += 1\n",
    "\n",
    "num = int(input('Ingrese el número de veces a repetir la frase: '))\n",
    "print('\\n')\n",
    "\n",
    "\n",
    "#llamar la función\n",
    "\n",
    "repetir(num,cont)"
   ]
  },
  {
   "cell_type": "markdown",
   "id": "4189c6ee",
   "metadata": {},
   "source": [
    "### Hacer un programa que solicite ingreso de contraseña:"
   ]
  },
  {
   "cell_type": "code",
   "execution_count": 9,
   "id": "201030fe",
   "metadata": {},
   "outputs": [
    {
     "name": "stdout",
     "output_type": "stream",
     "text": [
      "Por favor ingrese su contraseña\n",
      "mapi24\n",
      "Por favor ingrese su contraseña\n",
      "mapi26'2\n",
      "Por favor ingrese su contraseña\n",
      "mapi2602\n",
      "Por fin....!\n"
     ]
    }
   ],
   "source": [
    "#Ingreso password\n",
    "\n",
    "password = ''\n",
    "\n",
    "while password != 'mapi2602':\n",
    "    print('Por favor ingrese su contraseña')\n",
    "    password = input()\n",
    "\n",
    "print('Por fin....!')\n"
   ]
  },
  {
   "cell_type": "markdown",
   "id": "4e40bda7",
   "metadata": {},
   "source": [
    "   <hr color=\"blue\" size=20>"
   ]
  },
  {
   "cell_type": "markdown",
   "id": "aca26f2a",
   "metadata": {},
   "source": [
    "## Modificando la finalización del bucle while: break y continue"
   ]
  },
  {
   "cell_type": "markdown",
   "id": "4d4bdcdd",
   "metadata": {},
   "source": [
    "- break se utiliza para finalizar y salir el bucle, **por ejemplo**, si se cumple alguna condición.\n",
    "- continue salta al siguiente paso de la iteración, **ignorando todas las sentencias que le siguen** y que forman parte del bucle."
   ]
  },
  {
   "cell_type": "markdown",
   "id": "4d038da6",
   "metadata": {},
   "source": [
    "## Uso de break:"
   ]
  },
  {
   "cell_type": "markdown",
   "id": "785c052a",
   "metadata": {},
   "source": [
    "### Hacer un programa que valide ingreso nombre Rose:"
   ]
  },
  {
   "cell_type": "code",
   "execution_count": 13,
   "id": "a3ecce9b",
   "metadata": {},
   "outputs": [
    {
     "name": "stdout",
     "output_type": "stream",
     "text": [
      "Por favor ingrese su nombre: \n",
      "asdf\n",
      "Por favor ingrese su nombre: \n",
      "ñkjh\n",
      "Por favor ingrese su nombre: \n",
      "rose\n",
      "Hasta luego !!!!\n"
     ]
    }
   ],
   "source": [
    "while True:\n",
    "    print('Por favor ingrese su nombre: ')\n",
    "    name = input()\n",
    "    if name.lower() == 'rose':\n",
    "        break\n",
    "\n",
    "print('Hasta luego !!!!')"
   ]
  },
  {
   "cell_type": "markdown",
   "id": "337c67f7",
   "metadata": {},
   "source": [
    "## Uso de continue:"
   ]
  },
  {
   "cell_type": "markdown",
   "id": "749d8cbb",
   "metadata": {},
   "source": [
    "### Hacer un programa que valide nombre y contraseña de dos listas respectivamente:"
   ]
  },
  {
   "cell_type": "code",
   "execution_count": 15,
   "id": "69e520a4",
   "metadata": {},
   "outputs": [
    {
     "name": "stdout",
     "output_type": "stream",
     "text": [
      "Ingrese su nombre: luis\n",
      "\n",
      "Hola Luis, por favor ingresa tu contraseña: \n",
      "42\n",
      "\n",
      " Acceso Negado\n"
     ]
    }
   ],
   "source": [
    "#listas de nombre y números\n",
    "\n",
    "nombre = ['Juan','pedro','luis','fatima','vladi']\n",
    "contra = ['1234','4321','abcd','dcba','4567']\n",
    "\n",
    "#while\n",
    "\n",
    "while True:\n",
    "    name = input('Ingrese su nombre: ')\n",
    "    if name not in nombre:\n",
    "        continue\n",
    "    \n",
    "    print(f'\\nHola {name.title()}, por favor ingresa tu contraseña: ')\n",
    "    password = input()\n",
    "    if password in contra:\n",
    "        print('\\n Bienvenido a su cuenta bancaria')\n",
    "        break\n",
    "    \n",
    "    else:\n",
    "        print('\\n Acceso Negado')\n",
    "        break"
   ]
  },
  {
   "cell_type": "code",
   "execution_count": 16,
   "id": "b16d7c82",
   "metadata": {},
   "outputs": [
    {
     "name": "stdout",
     "output_type": "stream",
     "text": [
      "Ingrese su nombre: fatima\n",
      "\n",
      "Hola Fatima, por favor ingresa tu contraseña: \n",
      "1234\n",
      "\n",
      " Bienvenido a su cuenta bancaria\n"
     ]
    }
   ],
   "source": [
    "#listas de nombre y números\n",
    "\n",
    "nombre = ['Juan','pedro','luis','fatima','vladi']\n",
    "contra = ['1234','4321','abcd','dcba','4567']\n",
    "\n",
    "#while\n",
    "\n",
    "while True:\n",
    "    name = input('Ingrese su nombre: ')\n",
    "    if name not in nombre:\n",
    "        continue\n",
    "    \n",
    "    print(f'\\nHola {name.title()}, por favor ingresa tu contraseña: ')\n",
    "    password = input()\n",
    "    if password in contra:\n",
    "        print('\\n Bienvenido a su cuenta bancaria')\n",
    "        break\n",
    "    \n",
    "    else:\n",
    "        print('\\n Acceso Negado')\n",
    "        break"
   ]
  },
  {
   "cell_type": "markdown",
   "id": "08136a8c",
   "metadata": {},
   "source": [
    "   <hr color=\"blue\" size=20>"
   ]
  },
  {
   "cell_type": "markdown",
   "id": "57d9ce21",
   "metadata": {},
   "source": [
    "## <font color=#33A5FF>****EJEMPLOS****<tfont>"
   ]
  },
  {
   "cell_type": "markdown",
   "id": "2686baa7",
   "metadata": {},
   "source": [
    "   <hr color=\"blue\" size=20>"
   ]
  },
  {
   "cell_type": "markdown",
   "id": "2ce0f3b0",
   "metadata": {},
   "source": [
    "## Estructura iterativa while"
   ]
  },
  {
   "cell_type": "markdown",
   "id": "28c5f502",
   "metadata": {},
   "source": [
    "### Hacer un programa que busque el número 2 dentro de una lista de Números, si se encuentra, que imprima el indice dentro de la lista:"
   ]
  },
  {
   "cell_type": "code",
   "execution_count": 19,
   "id": "f643153a",
   "metadata": {},
   "outputs": [
    {
     "name": "stdout",
     "output_type": "stream",
     "text": [
      "El número 2 ha sido encontrado en el índice 3\n"
     ]
    }
   ],
   "source": [
    "valores = [5, 1, 9, 2, 7, 4]\n",
    "encontrado = False\n",
    "indice = 0\n",
    "longitud = len(valores)\n",
    "while not encontrado and indice < longitud:\n",
    "    valor = valores[indice]\n",
    "    if valor == 2:\n",
    "        encontrado = True\n",
    "    else:\n",
    "        indice += 1\n",
    "if encontrado:\n",
    "    print(f'El número 2 ha sido encontrado en el índice {indice}')\n",
    "else:\n",
    "    print('El número 2 no se encuentra en la lista de valores')"
   ]
  },
  {
   "cell_type": "markdown",
   "id": "2965f97f",
   "metadata": {},
   "source": [
    "### Hacer un programa que solicite ingreso de contraseña con intentos limitados:"
   ]
  },
  {
   "cell_type": "code",
   "execution_count": 23,
   "id": "f3414405",
   "metadata": {},
   "outputs": [
    {
     "name": "stdout",
     "output_type": "stream",
     "text": [
      "Por favor ingrese su contraseña: \n",
      "2341\n",
      "Por favor ingrese su contraseña: \n",
      "DCN\n",
      "Por favor ingrese su contraseña: \n",
      "MAPI\n",
      "Por favor ingrese su contraseña: \n",
      "2324\n",
      "Por favor ingrese su contraseña: \n",
      "9876\n",
      "Por favor ingrese su contraseña: \n",
      "123\n",
      "Por favor ingrese su contraseña: \n",
      "4321\n",
      "Por favor ingrese su contraseña: \n",
      "54321\n",
      "Por favor ingrese su contraseña: \n",
      "12345\n",
      "Por fin...!\n"
     ]
    }
   ],
   "source": [
    "#Ingreso password\n",
    "\n",
    "password = ''\n",
    "\n",
    "#sino tengo contador while True:\n",
    "    \n",
    "cont = 0\n",
    "while password != '12345':\n",
    "    cont +=1\n",
    "    print('Por favor ingrese su contraseña: ')\n",
    "    password = input()\n",
    "    if cont == 10:\n",
    "        print('Finalizo los intentos...!')\n",
    "        break\n",
    "if cont !=5:\n",
    "    print('Por fin...!')"
   ]
  },
  {
   "cell_type": "markdown",
   "id": "8ce5e5ba",
   "metadata": {},
   "source": [
    "### Imprime la secuencia 3n+1 desde un número n , terminando cuando llegue a 1."
   ]
  },
  {
   "cell_type": "markdown",
   "id": "2d902787",
   "metadata": {},
   "source": [
    "La \"regla de cálculo\" para crear la secuencia es partir de unos n dados, y generar el siguiente término de la secuencia a partir de n , ya sea dividiendo n por la mitad, (siempre que n sea par), o bien multiplicándolo por tres y sumando 1. La secuencia termina cuando n llega a 1."
   ]
  },
  {
   "cell_type": "code",
   "execution_count": 25,
   "id": "c86df5e8",
   "metadata": {},
   "outputs": [
    {
     "name": "stdout",
     "output_type": "stream",
     "text": [
      "Ingrese numero de inicio n : ==> 75\n",
      "75, 226, 113, 340, 170, 85, 256, 128, 64, 32, 16, 8, 4, 2, 1.\n"
     ]
    }
   ],
   "source": [
    "def seq3np1(n):\n",
    "    while n != 1:\n",
    "        print(n, end =\", \")\n",
    "        if n % 2 == 0:\n",
    "            n = n // 2\n",
    "        else:\n",
    "            n = n * 3 + 1\n",
    "    print(n, end=\".\\n\")\n",
    "    \n",
    "num = int(input('Ingrese numero de inicio n : ==> '))\n",
    "seq3np1(num)"
   ]
  },
  {
   "cell_type": "markdown",
   "id": "405ad201",
   "metadata": {},
   "source": [
    "### Hacer un programa con función que cuenta el número de dígitos que son 0 o 5 en un entero positivo:"
   ]
  },
  {
   "cell_type": "code",
   "execution_count": 27,
   "id": "99138355",
   "metadata": {},
   "outputs": [
    {
     "name": "stdout",
     "output_type": "stream",
     "text": [
      "Ingrese un número que contenga los digitos \"0\" y \"5\" : ==> 110128958108148\n",
      "\n",
      "\n",
      "\tLa cantidad de digitos \"0\" y \"5\" en el numero  110128958108148 es: ==> 3\n"
     ]
    }
   ],
   "source": [
    "#Creamos la función\n",
    "\n",
    "def num_digi(n):\n",
    "    count = 0\n",
    "    while n > 0:\n",
    "        digit = n % 10\n",
    "        if digit == 0 or digit == 5:\n",
    "            count = count + 1\n",
    "        n = n // 10\n",
    "    return count\n",
    "\n",
    "#solicitamos numero\n",
    "\n",
    "num = int(input('Ingrese un número que contenga los digitos \"0\" y \"5\" : ==> '))\n",
    "\n",
    "#Asignamos la cantidad que retorna\n",
    "cantidad = num_digi(num)\n",
    "\n",
    "#imprimirresultado\n",
    " \n",
    "print('\\n\\n\\tLa cantidad de digitos \"0\" y \"5\" en el numero ',num,'es: ==>',cantidad)"
   ]
  },
  {
   "cell_type": "code",
   "execution_count": 29,
   "id": "5ec83827",
   "metadata": {},
   "outputs": [
    {
     "name": "stdout",
     "output_type": "stream",
     "text": [
      "Ingrese un número que contenga los digitos \"0\" y \"5\" : ==> 5151515010150105010505\n",
      "\n",
      "\n",
      "\tLa cantidad de digitos \"0\" y \"5\" en el numero  5151515010150105010505 es: ==> 15\n"
     ]
    }
   ],
   "source": [
    "#Creamos la función\n",
    "\n",
    "def num_digi(n):\n",
    "    count = 0\n",
    "    while n > 0:\n",
    "        digit = n % 10\n",
    "        if digit == 0 or digit == 5:\n",
    "            count = count + 1\n",
    "        n = n // 10\n",
    "    return count\n",
    "\n",
    "#solicitamos numero\n",
    "\n",
    "num = int(input('Ingrese un número que contenga los digitos \"0\" y \"5\" : ==> '))\n",
    "\n",
    "#Asignamos la cantidad que retorna\n",
    "cantidad = num_digi(num)\n",
    "\n",
    "#imprimirresultado\n",
    " \n",
    "print('\\n\\n\\tLa cantidad de digitos \"0\" y \"5\" en el numero ',num,'es: ==>',cantidad)"
   ]
  },
  {
   "cell_type": "code",
   "execution_count": null,
   "id": "a31a8086",
   "metadata": {},
   "outputs": [],
   "source": []
  }
 ],
 "metadata": {
  "kernelspec": {
   "display_name": "Python 3 (ipykernel)",
   "language": "python",
   "name": "python3"
  },
  "language_info": {
   "codemirror_mode": {
    "name": "ipython",
    "version": 3
   },
   "file_extension": ".py",
   "mimetype": "text/x-python",
   "name": "python",
   "nbconvert_exporter": "python",
   "pygments_lexer": "ipython3",
   "version": "3.9.12"
  }
 },
 "nbformat": 4,
 "nbformat_minor": 5
}
